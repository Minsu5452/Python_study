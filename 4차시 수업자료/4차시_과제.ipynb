{
 "cells": [
  {
   "cell_type": "markdown",
   "metadata": {
    "id": "3HmhRso20rpx"
   },
   "source": [
    "### 겨울방학 파이썬 스터디 4차시 과제"
   ]
  },
  {
   "cell_type": "markdown",
   "metadata": {
    "id": "O1hh5GRh0rpy"
   },
   "source": [
    "- 이번 과제는 사용하는 데이터에 따라 A, B, C로 나뉘어져 있습니다.\n",
    "- 각 문제의 배점은 문제 맨 끝에 적어두었으니 참고해서 풀어주시면 됩니다.\n",
    "- 두 가지 방법을 이용해서 해결하라고 명시된 문제는 한가지 방법으로만 풀었을때 정답 인정되지 않습니다.\n",
    "- 과제 기한 : 1월 16일 12시"
   ]
  },
  {
   "cell_type": "markdown",
   "metadata": {
    "id": "9mtjljmn0rpz"
   },
   "source": [
    "## A."
   ]
  },
  {
   "cell_type": "markdown",
   "metadata": {
    "id": "-5RB5be50rpz"
   },
   "source": [
    "**A1.** 출력값이 아래와 동일하도록 DataFrame을 생성하시오. (1점)"
   ]
  },
  {
   "cell_type": "markdown",
   "metadata": {
    "id": "jJwMGWSa0rpz"
   },
   "source": [
    "|  | continent\t| year\t| lifeExp\t| pop\t| gdpPercap |\n",
    "| ----- | ------------- | ------ | -------- | ----------- | --------- |\n",
    "| 0 |\tAsia|\t1952|\t28|\t843|\t779.4 |\n",
    "| 1 |\tAsia|\t1957|\t30|\t924\t|820.7 |\n",
    "| 2 |\tAsia|\t1962|\t31|\t1083|\t853.1 |\n",
    "| 3 |\tAsia|\t1967|\t34|\t1376|\t836.1 |\n",
    "| 4 |\tAsia|\t1972|\t36|\t1370|\t739.9 |\n",
    "| 5 |\tAsia| 1977|\t38|\t1488|\t786.3 |"
   ]
  },
  {
   "cell_type": "code",
   "execution_count": null,
   "metadata": {},
   "outputs": [],
   "source": [
    "#code here\n"
   ]
  },
  {
   "cell_type": "markdown",
   "metadata": {
    "id": "A-G-Il190rp0"
   },
   "source": [
    "**A2.** 인덱싱을 이용하여 데이터프레임에서 'pop', 'gdpPercap'을 출력하시오. (2점)\n",
    "- 단, 행은 4개만 출력하시오\n",
    "- iloc , loc 둘 다 이용하여 출력하시오."
   ]
  },
  {
   "cell_type": "markdown",
   "metadata": {},
   "source": [
    "- iloc 이용"
   ]
  },
  {
   "cell_type": "code",
   "execution_count": null,
   "metadata": {},
   "outputs": [],
   "source": [
    "#code here\n"
   ]
  },
  {
   "cell_type": "markdown",
   "metadata": {},
   "source": [
    "- loc 이용"
   ]
  },
  {
   "cell_type": "code",
   "execution_count": null,
   "metadata": {},
   "outputs": [],
   "source": [
    "#code here\n"
   ]
  },
  {
   "cell_type": "markdown",
   "metadata": {
    "id": "Yhu6AQR30rp0"
   },
   "source": [
    "**A3.** DataFrame의 열 순서를 pop 기준 역순으로 변경하시오. (1점)"
   ]
  },
  {
   "cell_type": "code",
   "execution_count": null,
   "metadata": {},
   "outputs": [],
   "source": [
    "#code here\n"
   ]
  },
  {
   "cell_type": "markdown",
   "metadata": {
    "id": "YFuWhL_D0rp1"
   },
   "source": [
    "## B."
   ]
  },
  {
   "cell_type": "markdown",
   "metadata": {
    "id": "GW-VlDDw0rp1"
   },
   "source": [
    "**B1.**   dataCustomers.tab, dataTransactions.tab 데이터를 불러오세요 (1점)\n",
    "- 단, 구분자는 tab이다. (인코딩도 필요)"
   ]
  },
  {
   "cell_type": "code",
   "execution_count": 88,
   "metadata": {
    "id": "Uy87ukr50rp2"
   },
   "outputs": [],
   "source": [
    "#code here\n"
   ]
  },
  {
   "cell_type": "markdown",
   "metadata": {},
   "source": [
    "**B2.** 두 데이터를 custid 기준으로 합치고 5개의 행만 출력해보세요. (1점)"
   ]
  },
  {
   "cell_type": "code",
   "execution_count": null,
   "metadata": {},
   "outputs": [],
   "source": [
    "#code here\n"
   ]
  },
  {
   "cell_type": "markdown",
   "metadata": {
    "id": "M8_RWeuX0rp2"
   },
   "source": [
    "**B3.** brand의 종류의 수와 가장 많이 나온 store를 구하시오. (1점)"
   ]
  },
  {
   "cell_type": "code",
   "execution_count": null,
   "metadata": {},
   "outputs": [],
   "source": [
    "#code here\n"
   ]
  },
  {
   "cell_type": "code",
   "execution_count": null,
   "metadata": {},
   "outputs": [],
   "source": [
    "#code here\n"
   ]
  },
  {
   "cell_type": "markdown",
   "metadata": {
    "id": "KVZUukxR0rp2"
   },
   "source": [
    "**B4.** 본점에서 화장품 관련 상품을 구입한 고객의 평균 나이를 구하시오. (query문을 이용할 것) (1점)"
   ]
  },
  {
   "cell_type": "code",
   "execution_count": null,
   "metadata": {},
   "outputs": [],
   "source": [
    "#code here\n"
   ]
  },
  {
   "cell_type": "markdown",
   "metadata": {
    "id": "0b-xlTXv0rp2"
   },
   "source": [
    "**B5.** 구매금액(amount)이 가장 큰 사람부터 적은 사람 순으로 정렬하여 상위 10명만 출력하시오. (1점)\n",
    "- 데이터 프레임 형식으로 출력하시오. 데이터 프레임의 컬럼은 \"custid\"만 나오도록 하시오."
   ]
  },
  {
   "cell_type": "code",
   "execution_count": null,
   "metadata": {},
   "outputs": [],
   "source": [
    "#code here\n"
   ]
  },
  {
   "cell_type": "markdown",
   "metadata": {
    "id": "S7HRQOXy0rp3"
   },
   "source": [
    "**B6.** 지오다노는 여성과 남성 중 누구에게 더 많이 팔리는지 구하시오. (2점)"
   ]
  },
  {
   "cell_type": "code",
   "execution_count": null,
   "metadata": {},
   "outputs": [],
   "source": [
    "#code here\n"
   ]
  },
  {
   "cell_type": "markdown",
   "metadata": {
    "id": "-40E0mfu0rp3"
   },
   "source": [
    "**B7.** df에서 residence의 비율을 구하고 df에 'residence_rate'열을 추가하시오. (2점)"
   ]
  },
  {
   "cell_type": "code",
   "execution_count": 123,
   "metadata": {
    "id": "yIiXpK3k0rp3"
   },
   "outputs": [],
   "source": [
    "#code here\n"
   ]
  },
  {
   "cell_type": "markdown",
   "metadata": {
    "id": "RuRfneCo0rp4"
   },
   "source": [
    "## C."
   ]
  },
  {
   "cell_type": "code",
   "execution_count": 129,
   "metadata": {
    "id": "FBCrdcFb0rp4"
   },
   "outputs": [
    {
     "name": "stderr",
     "output_type": "stream",
     "text": [
      "C:\\Users\\User\\anaconda3\\lib\\site-packages\\IPython\\core\\interactiveshell.py:3146: DtypeWarning: Columns (4,5) have mixed types.Specify dtype option on import or set low_memory=False.\n",
      "  has_raised = await self.run_ast_nodes(code_ast.body, cell_name,\n"
     ]
    },
    {
     "data": {
      "text/html": [
       "<div>\n",
       "<style scoped>\n",
       "    .dataframe tbody tr th:only-of-type {\n",
       "        vertical-align: middle;\n",
       "    }\n",
       "\n",
       "    .dataframe tbody tr th {\n",
       "        vertical-align: top;\n",
       "    }\n",
       "\n",
       "    .dataframe thead th {\n",
       "        text-align: right;\n",
       "    }\n",
       "</style>\n",
       "<table border=\"1\" class=\"dataframe\">\n",
       "  <thead>\n",
       "    <tr style=\"text-align: right;\">\n",
       "      <th></th>\n",
       "      <th>login_id</th>\n",
       "      <th>user_id</th>\n",
       "      <th>c_time</th>\n",
       "      <th>platform</th>\n",
       "      <th>browser</th>\n",
       "    </tr>\n",
       "  </thead>\n",
       "  <tbody>\n",
       "    <tr>\n",
       "      <th>0</th>\n",
       "      <td>14196.0</td>\n",
       "      <td>19195.0</td>\n",
       "      <td>2018-09-23 1:30</td>\n",
       "      <td>Windows 8</td>\n",
       "      <td>Internet Explorer 10.0</td>\n",
       "    </tr>\n",
       "    <tr>\n",
       "      <th>1</th>\n",
       "      <td>14234.0</td>\n",
       "      <td>22045.0</td>\n",
       "      <td>2018-09-23 2:46</td>\n",
       "      <td>Windows</td>\n",
       "      <td>Chrome 67.0.3396.99</td>\n",
       "    </tr>\n",
       "    <tr>\n",
       "      <th>2</th>\n",
       "      <td>14256.0</td>\n",
       "      <td>8790.0</td>\n",
       "      <td>2018-09-23 3:35</td>\n",
       "      <td>Windows</td>\n",
       "      <td>Chrome 69.0.3497.100</td>\n",
       "    </tr>\n",
       "    <tr>\n",
       "      <th>3</th>\n",
       "      <td>14278.0</td>\n",
       "      <td>NaN</td>\n",
       "      <td>2018-09-23 12:50</td>\n",
       "      <td>Windows</td>\n",
       "      <td>Chrome 69.0.3497.100</td>\n",
       "    </tr>\n",
       "    <tr>\n",
       "      <th>4</th>\n",
       "      <td>14279.0</td>\n",
       "      <td>NaN</td>\n",
       "      <td>2018-09-23 12:50</td>\n",
       "      <td>Windows</td>\n",
       "      <td>Chrome 69.0.3497.100</td>\n",
       "    </tr>\n",
       "    <tr>\n",
       "      <th>...</th>\n",
       "      <td>...</td>\n",
       "      <td>...</td>\n",
       "      <td>...</td>\n",
       "      <td>...</td>\n",
       "      <td>...</td>\n",
       "    </tr>\n",
       "    <tr>\n",
       "      <th>148994</th>\n",
       "      <td>584404.0</td>\n",
       "      <td>19696.0</td>\n",
       "      <td>2020-12-08 23:46</td>\n",
       "      <td>NaN</td>\n",
       "      <td>NaN</td>\n",
       "    </tr>\n",
       "    <tr>\n",
       "      <th>148995</th>\n",
       "      <td>584405.0</td>\n",
       "      <td>6586.0</td>\n",
       "      <td>2020-12-08 23:49</td>\n",
       "      <td>NaN</td>\n",
       "      <td>NaN</td>\n",
       "    </tr>\n",
       "    <tr>\n",
       "      <th>148996</th>\n",
       "      <td>584406.0</td>\n",
       "      <td>19303.0</td>\n",
       "      <td>2020-12-08 23:49</td>\n",
       "      <td>NaN</td>\n",
       "      <td>NaN</td>\n",
       "    </tr>\n",
       "    <tr>\n",
       "      <th>148997</th>\n",
       "      <td>584407.0</td>\n",
       "      <td>11103.0</td>\n",
       "      <td>2020-12-08 23:51</td>\n",
       "      <td>NaN</td>\n",
       "      <td>NaN</td>\n",
       "    </tr>\n",
       "    <tr>\n",
       "      <th>148998</th>\n",
       "      <td>584408.0</td>\n",
       "      <td>6600.0</td>\n",
       "      <td>2020-12-08 23:59</td>\n",
       "      <td>NaN</td>\n",
       "      <td>NaN</td>\n",
       "    </tr>\n",
       "  </tbody>\n",
       "</table>\n",
       "<p>148999 rows × 5 columns</p>\n",
       "</div>"
      ],
      "text/plain": [
       "        login_id  user_id            c_time   platform                 browser\n",
       "0        14196.0  19195.0   2018-09-23 1:30  Windows 8  Internet Explorer 10.0\n",
       "1        14234.0  22045.0   2018-09-23 2:46    Windows     Chrome 67.0.3396.99\n",
       "2        14256.0   8790.0   2018-09-23 3:35    Windows    Chrome 69.0.3497.100\n",
       "3        14278.0      NaN  2018-09-23 12:50    Windows    Chrome 69.0.3497.100\n",
       "4        14279.0      NaN  2018-09-23 12:50    Windows    Chrome 69.0.3497.100\n",
       "...          ...      ...               ...        ...                     ...\n",
       "148994  584404.0  19696.0  2020-12-08 23:46        NaN                     NaN\n",
       "148995  584405.0   6586.0  2020-12-08 23:49        NaN                     NaN\n",
       "148996  584406.0  19303.0  2020-12-08 23:49        NaN                     NaN\n",
       "148997  584407.0  11103.0  2020-12-08 23:51        NaN                     NaN\n",
       "148998  584408.0   6600.0  2020-12-08 23:59        NaN                     NaN\n",
       "\n",
       "[148999 rows x 5 columns]"
      ]
     },
     "execution_count": 129,
     "metadata": {},
     "output_type": "execute_result"
    }
   ],
   "source": [
    "### 코드를 건드리지 마시고 실행해주세요.\n",
    "info_login = pd.read_csv('info_login.csv',encoding='cp949').iloc[:148999,1:] ; info_login"
   ]
  },
  {
   "cell_type": "markdown",
   "metadata": {
    "id": "mTacdY5K0rp4"
   },
   "source": [
    "**C1.** 위에 데이터를 가지고 user_id가 NaN인 행은 모두 지우고, platform과 browser는 최빈값으로 대체하시오. (2점)"
   ]
  },
  {
   "cell_type": "code",
   "execution_count": 134,
   "metadata": {
    "id": "j22Bv3lT0rp4"
   },
   "outputs": [],
   "source": [
    "#code here\n"
   ]
  },
  {
   "cell_type": "markdown",
   "metadata": {},
   "source": [
    "**C2.**  info_login 데이터에 결측값이 없는지 확인하시오. (1점)"
   ]
  },
  {
   "cell_type": "code",
   "execution_count": null,
   "metadata": {},
   "outputs": [],
   "source": [
    "#code here\n"
   ]
  },
  {
   "cell_type": "markdown",
   "metadata": {
    "id": "_tsW0h0r0rp4"
   },
   "source": [
    "**C3.** 위에 만든 info_login데이터를 가지고 login_id와 user_id를 int형으로 바꾸세요. (info_login을 출력할때 바뀐 형태로 출력되어야 함) (1점)\n",
    "- 바꾸고 난 뒤에 데이터 프레임 열의 데이터 타입을 출력해보세요.\n"
   ]
  },
  {
   "cell_type": "code",
   "execution_count": null,
   "metadata": {},
   "outputs": [],
   "source": [
    "#code here\n"
   ]
  },
  {
   "cell_type": "markdown",
   "metadata": {},
   "source": [
    "**C4.** 각 플랫폼 별 user_id의 평균 값을 딕셔너리에 넣어주는 코드를 만들어보세요. (3점)\n",
    "- key는 플랫폼 명칭, value는 user_id의 평균으로 해주세요.\n",
    "- 3주차에서 배운 사용자 정의 함수 (boss_question)를 만들어서 사용해보세요. \n",
    "- 단, user_id의 평균값은 정수를 나타내시오.\n",
    "- 힌트) def, query, for"
   ]
  },
  {
   "cell_type": "code",
   "execution_count": null,
   "metadata": {},
   "outputs": [],
   "source": [
    "#code here\n",
    "dict={}\n",
    "def boss_question(x):\n",
    "\n",
    "\n",
    "for pf in platforms:\n",
    "\n",
    "\n",
    "print(dict)"
   ]
  }
 ],
 "metadata": {
  "colab": {
   "name": "겨울방학 파이썬 스터디 4차시 과제.ipynb",
   "provenance": []
  },
  "kernelspec": {
   "display_name": "Python 3",
   "language": "python",
   "name": "python3"
  },
  "language_info": {
   "codemirror_mode": {
    "name": "ipython",
    "version": 3
   },
   "file_extension": ".py",
   "mimetype": "text/x-python",
   "name": "python",
   "nbconvert_exporter": "python",
   "pygments_lexer": "ipython3",
   "version": "3.8.5"
  }
 },
 "nbformat": 4,
 "nbformat_minor": 1
}
