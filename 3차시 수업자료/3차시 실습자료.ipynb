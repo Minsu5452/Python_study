{
 "cells": [
  {
   "cell_type": "markdown",
   "metadata": {
    "id": "U0xq52m-HZm6"
   },
   "source": [
    "# 겨울방학 파이썬 스터디 3차시"
   ]
  },
  {
   "cell_type": "markdown",
   "metadata": {
    "id": "L2ceFSIaHZnD"
   },
   "source": [
    "<font color = \"#CC3D3D\"><p>\n",
    "\n",
    "- [함수](#함수)\n",
    "    - [내장함수](#내장함수)\n",
    "    - [모듈함수](#모듈함수)\n",
    "    - [사용자 정의 함수](#사용자-정의-함수)\n",
    "    - [무명함수](#무명함수)\n",
    "- [문자열 formatting](#문자열-formatting)\n",
    "    - [% 서식](#%-서식)\n",
    "    - [format](#format)\n",
    "    - [f-string](#f-string)\n",
    "- [문자열 method](#문자열-method)\n",
    "    - [join](#join)\n",
    "    - [split](#split)\n",
    "    - [replace](#replace)\n",
    "    - [in, not in](#in,-not-in)"
   ]
  },
  {
   "cell_type": "markdown",
   "metadata": {
    "id": "VZub2ah2HZnE"
   },
   "source": [
    "# 함수"
   ]
  },
  {
   "cell_type": "markdown",
   "metadata": {
    "id": "fHTL_Sr2HZnF"
   },
   "source": [
    "- 함수(function)는 특정한 작업을 하는 코드 조각이다. \n",
    "  - 자주 사용되는 코드를 작성해 두고, 필요할 때마다 불러서 사용하기 위한 목적\n",
    "- 함수를 호출(call)할 때는 함수명 뒤에 `()`를 붙여준다.\n",
    "- 함수에 따라서는 실행에 필요한 어떤 값들을 넘겨줘야 하는데, 이를 **인자(argument)**라고 한다. "
   ]
  },
  {
   "cell_type": "markdown",
   "metadata": {
    "id": "GdAn2S7ZHZnG"
   },
   "source": [
    "### 내장함수"
   ]
  },
  {
   "cell_type": "markdown",
   "metadata": {
    "id": "Y6gA8nQpHZnG"
   },
   "source": [
    "<img align=\"left\" src=\"https://t1.daumcdn.net/cfile/tistory/274A1F4F5773A4A837\" width=700 height=600>"
   ]
  },
  {
   "cell_type": "markdown",
   "metadata": {
    "id": "R6wRHtKRHZnH"
   },
   "source": [
    "#### iterable?"
   ]
  },
  {
   "cell_type": "code",
   "execution_count": null,
   "metadata": {
    "id": "OL6U47-CHZnI",
    "outputId": "04649ba5-e4dd-435f-808f-333563879852"
   },
   "outputs": [
    {
     "name": "stdout",
     "output_type": "stream",
     "text": [
      "1\n",
      "2\n",
      "3\n"
     ]
    }
   ],
   "source": [
    "for i in [1,2,3]:\n",
    "    print(i)"
   ]
  },
  {
   "cell_type": "code",
   "execution_count": null,
   "metadata": {
    "id": "Jfh4wLKHHZnK",
    "outputId": "2367776a-fd0a-4bc0-89a7-22788c0fcfb7"
   },
   "outputs": [
    {
     "name": "stdout",
     "output_type": "stream",
     "text": [
      "p\n",
      "y\n",
      "t\n",
      "h\n",
      "o\n",
      "n\n"
     ]
    }
   ],
   "source": [
    "for i in 'python':\n",
    "    print(i)"
   ]
  },
  {
   "cell_type": "markdown",
   "metadata": {
    "id": "GWstpJpGHZnL"
   },
   "source": [
    "`max(iterable)`는 인수로 반복 가능한 자료형을 입력받아 그 최댓값을 돌려주는 함수이다."
   ]
  },
  {
   "cell_type": "code",
   "execution_count": null,
   "metadata": {
    "id": "uENo0KD0HZnL",
    "outputId": "5a795054-05d4-4ef0-df29-20dc6bfd7c60"
   },
   "outputs": [
    {
     "data": {
      "text/plain": [
       "3"
      ]
     },
     "execution_count": 3,
     "metadata": {},
     "output_type": "execute_result"
    }
   ],
   "source": [
    "max([1, 2, 3])"
   ]
  },
  {
   "cell_type": "code",
   "execution_count": null,
   "metadata": {
    "id": "fCMlPq1PHZnL",
    "outputId": "52e7214b-cab9-438c-e7b8-422d084526e1"
   },
   "outputs": [
    {
     "data": {
      "text/plain": [
       "'y'"
      ]
     },
     "execution_count": 4,
     "metadata": {},
     "output_type": "execute_result"
    }
   ],
   "source": [
    "max(\"python\")"
   ]
  },
  {
   "cell_type": "markdown",
   "metadata": {
    "id": "5QW_PsL0HZnM"
   },
   "source": [
    "`min(iterable)`은 max 함수와 반대로, 인수로 반복 가능한 자료형을 입력받아 그 최솟값을 돌려주는 함수이다."
   ]
  },
  {
   "cell_type": "code",
   "execution_count": null,
   "metadata": {
    "id": "tdh14U8uHZnM",
    "outputId": "0dc3f2ad-faa9-48d2-c970-a3bd539ea466"
   },
   "outputs": [
    {
     "data": {
      "text/plain": [
       "1"
      ]
     },
     "execution_count": 5,
     "metadata": {},
     "output_type": "execute_result"
    }
   ],
   "source": [
    "min([1, 2, 3])"
   ]
  },
  {
   "cell_type": "code",
   "execution_count": null,
   "metadata": {
    "id": "8aVDKRgxHZnN",
    "outputId": "7c525f0c-8ce9-4bfb-8607-d15335304157"
   },
   "outputs": [
    {
     "data": {
      "text/plain": [
       "'h'"
      ]
     },
     "execution_count": 6,
     "metadata": {},
     "output_type": "execute_result"
    }
   ],
   "source": [
    "min(\"python\")"
   ]
  },
  {
   "cell_type": "markdown",
   "metadata": {
    "id": "4HP8JftJHZnO"
   },
   "source": [
    "`sum(iterable)`은 입력받은 리스트나 튜플의 모든 요소의 합을 돌려주는 함수이다."
   ]
  },
  {
   "cell_type": "code",
   "execution_count": null,
   "metadata": {
    "id": "tciMvZcMHZnO",
    "outputId": "5dd3f6d8-ba6c-4fb9-9201-d6c640396020"
   },
   "outputs": [
    {
     "data": {
      "text/plain": [
       "6"
      ]
     },
     "execution_count": 7,
     "metadata": {},
     "output_type": "execute_result"
    }
   ],
   "source": [
    "sum([1,2,3])"
   ]
  },
  {
   "cell_type": "code",
   "execution_count": null,
   "metadata": {
    "id": "TIM-HCtwHZnO",
    "outputId": "f7fe13e3-8194-4e33-c5de-5f51840ee609"
   },
   "outputs": [
    {
     "data": {
      "text/plain": [
       "15"
      ]
     },
     "execution_count": 8,
     "metadata": {},
     "output_type": "execute_result"
    }
   ],
   "source": [
    "sum((4,5,6))"
   ]
  },
  {
   "cell_type": "markdown",
   "metadata": {
    "id": "f8-YS-RmHZnP"
   },
   "source": [
    "`len(s)`은 입력값 s의 길이(요소의 전체 개수)를 돌려주는 함수이다."
   ]
  },
  {
   "cell_type": "code",
   "execution_count": null,
   "metadata": {
    "id": "cYNDVISaHZnP",
    "outputId": "45b483f3-06b5-4f46-a010-52c01ccfd54d"
   },
   "outputs": [
    {
     "data": {
      "text/plain": [
       "6"
      ]
     },
     "execution_count": 9,
     "metadata": {},
     "output_type": "execute_result"
    }
   ],
   "source": [
    "len(\"python\")"
   ]
  },
  {
   "cell_type": "code",
   "execution_count": null,
   "metadata": {
    "id": "pRW_vfiFHZnP",
    "outputId": "79256932-5ca0-4be9-aa02-6f501c532d7f"
   },
   "outputs": [
    {
     "data": {
      "text/plain": [
       "3"
      ]
     },
     "execution_count": 10,
     "metadata": {},
     "output_type": "execute_result"
    }
   ],
   "source": [
    "len([1,2,3])"
   ]
  },
  {
   "cell_type": "code",
   "execution_count": null,
   "metadata": {
    "id": "FuS48OyKHZnQ",
    "outputId": "272d49ee-1d5c-44e8-f6ea-3a87ac8b23b2"
   },
   "outputs": [
    {
     "data": {
      "text/plain": [
       "2"
      ]
     },
     "execution_count": 11,
     "metadata": {},
     "output_type": "execute_result"
    }
   ],
   "source": [
    "len((1, 'a'))"
   ]
  },
  {
   "cell_type": "markdown",
   "metadata": {
    "id": "LtjjQaaTHZnR"
   },
   "source": [
    "`range([start,] stop[,step])`는 for문과 함께 자주 사용하는 함수이다. 이 함수는 입력받은 숫자에 해당하는 범위 값을 반복 가능한 객체로 만들어 돌려준다."
   ]
  },
  {
   "cell_type": "code",
   "execution_count": null,
   "metadata": {
    "id": "Tmmf9AtuHZnS",
    "outputId": "9782898d-4e15-4228-814c-9dbff339847d"
   },
   "outputs": [
    {
     "data": {
      "text/plain": [
       "range(0, 5)"
      ]
     },
     "execution_count": 12,
     "metadata": {},
     "output_type": "execute_result"
    }
   ],
   "source": [
    "range(5)"
   ]
  },
  {
   "cell_type": "code",
   "execution_count": null,
   "metadata": {
    "id": "XxG6c7mjHZnS",
    "outputId": "67a7ad17-88d1-4c92-b0ce-0350b4fa7452"
   },
   "outputs": [
    {
     "data": {
      "text/plain": [
       "[0, 1, 2, 3, 4]"
      ]
     },
     "execution_count": 13,
     "metadata": {},
     "output_type": "execute_result"
    }
   ],
   "source": [
    "list(range(5))"
   ]
  },
  {
   "cell_type": "code",
   "execution_count": null,
   "metadata": {
    "id": "8HEzv9POHZnT",
    "outputId": "3127bcdc-7830-4a71-f0db-bdb33c09995c"
   },
   "outputs": [
    {
     "data": {
      "text/plain": [
       "[5, 6, 7, 8, 9]"
      ]
     },
     "execution_count": 14,
     "metadata": {},
     "output_type": "execute_result"
    }
   ],
   "source": [
    "list(range(5, 10))"
   ]
  },
  {
   "cell_type": "code",
   "execution_count": null,
   "metadata": {
    "id": "Red98IEfHZnT",
    "outputId": "f97be53d-4faf-4deb-a09a-eb32a2ef1874"
   },
   "outputs": [
    {
     "data": {
      "text/plain": [
       "[1, 3, 5, 7, 9]"
      ]
     },
     "execution_count": 15,
     "metadata": {},
     "output_type": "execute_result"
    }
   ],
   "source": [
    "list(range(1, 10, 2))"
   ]
  },
  {
   "cell_type": "code",
   "execution_count": null,
   "metadata": {
    "id": "YxowoBj3HZnT",
    "outputId": "6897002a-9d96-4535-eca1-114fa96bc847"
   },
   "outputs": [
    {
     "data": {
      "text/plain": [
       "[0, -1, -2, -3, -4, -5, -6, -7, -8, -9]"
      ]
     },
     "execution_count": 16,
     "metadata": {},
     "output_type": "execute_result"
    }
   ],
   "source": [
    "list(range(0, -10, -1))"
   ]
  },
  {
   "cell_type": "markdown",
   "metadata": {
    "id": "7M2pfK1JHZnT"
   },
   "source": [
    "`list(s)`는 반복 가능한 자료형 s를 입력받아 리스트로 만들어 돌려주는 함수이다."
   ]
  },
  {
   "cell_type": "code",
   "execution_count": null,
   "metadata": {
    "id": "F3_5nmWpHZnT",
    "outputId": "ebae0985-39ac-4292-d274-777e5e40d5ce"
   },
   "outputs": [
    {
     "data": {
      "text/plain": [
       "['p', 'y', 't', 'h', 'o', 'n']"
      ]
     },
     "execution_count": 17,
     "metadata": {},
     "output_type": "execute_result"
    }
   ],
   "source": [
    "list(\"python\")"
   ]
  },
  {
   "cell_type": "code",
   "execution_count": null,
   "metadata": {
    "id": "65QeNdxpHZnU",
    "outputId": "8760bf55-1cd3-458f-a34c-6d855e766c12"
   },
   "outputs": [
    {
     "data": {
      "text/plain": [
       "[1, 2, 3]"
      ]
     },
     "execution_count": 18,
     "metadata": {},
     "output_type": "execute_result"
    }
   ],
   "source": [
    "list((1,2,3))"
   ]
  },
  {
   "cell_type": "markdown",
   "metadata": {
    "id": "3c_6XA9AHZnU"
   },
   "source": [
    "`type(object)`은 입력값의 자료형이 무엇인지 알려 주는 함수이다."
   ]
  },
  {
   "cell_type": "code",
   "execution_count": null,
   "metadata": {
    "id": "fTRbcO_OHZnU",
    "outputId": "b8ad720e-807b-40bb-8fb9-fe290d10eb9e"
   },
   "outputs": [
    {
     "data": {
      "text/plain": [
       "str"
      ]
     },
     "execution_count": 19,
     "metadata": {},
     "output_type": "execute_result"
    }
   ],
   "source": [
    "type(\"abc\")"
   ]
  },
  {
   "cell_type": "code",
   "execution_count": null,
   "metadata": {
    "id": "JdtiqZCKHZnU",
    "outputId": "d70d81df-def8-4b0d-b5be-d2fcc5e96c7c"
   },
   "outputs": [
    {
     "data": {
      "text/plain": [
       "list"
      ]
     },
     "execution_count": 20,
     "metadata": {},
     "output_type": "execute_result"
    }
   ],
   "source": [
    "type([ ])"
   ]
  },
  {
   "cell_type": "code",
   "execution_count": null,
   "metadata": {
    "id": "CoTMqiEcHZnU",
    "outputId": "4d6216d7-ca82-47e3-9d32-b3b7b75fb0c2"
   },
   "outputs": [
    {
     "data": {
      "text/plain": [
       "float"
      ]
     },
     "execution_count": 21,
     "metadata": {},
     "output_type": "execute_result"
    }
   ],
   "source": [
    "type(8.574)"
   ]
  },
  {
   "cell_type": "markdown",
   "metadata": {
    "id": "GV6Q4Dn1HZnV"
   },
   "source": [
    "`int(x)`는 문자열 형태의 숫자나 소수점이 있는 숫자 등을 정수 형태로 돌려주는 함수로, 정수를 입력으로 받으면 그대로 돌려준다."
   ]
  },
  {
   "cell_type": "code",
   "execution_count": null,
   "metadata": {
    "id": "T2H4lAiEHZnV",
    "outputId": "2fbf79cd-54b0-480c-9fac-e8c1578afdc8"
   },
   "outputs": [
    {
     "data": {
      "text/plain": [
       "3"
      ]
     },
     "execution_count": 22,
     "metadata": {},
     "output_type": "execute_result"
    }
   ],
   "source": [
    "int('3')"
   ]
  },
  {
   "cell_type": "code",
   "execution_count": null,
   "metadata": {
    "id": "eXzX9J1YHZnV",
    "outputId": "44839ea5-3234-4a91-b8c7-2d00c99e4c09"
   },
   "outputs": [
    {
     "data": {
      "text/plain": [
       "3"
      ]
     },
     "execution_count": 23,
     "metadata": {},
     "output_type": "execute_result"
    }
   ],
   "source": [
    "int(3.7)"
   ]
  },
  {
   "cell_type": "markdown",
   "metadata": {
    "id": "J7U53eyyHZnV"
   },
   "source": [
    "`str(object)`은 문자열 형태로 객체를 변환하여 돌려주는 함수이다."
   ]
  },
  {
   "cell_type": "code",
   "execution_count": null,
   "metadata": {
    "id": "bhLfyTDSHZnV",
    "outputId": "3f11ac56-d584-4cd9-e4b7-5ea1fa28434c"
   },
   "outputs": [
    {
     "data": {
      "text/plain": [
       "'3'"
      ]
     },
     "execution_count": 24,
     "metadata": {},
     "output_type": "execute_result"
    }
   ],
   "source": [
    "str(3)"
   ]
  },
  {
   "cell_type": "code",
   "execution_count": null,
   "metadata": {
    "id": "qb5pypFhHZnW",
    "outputId": "a3c15d68-b4a4-4da6-d4d6-4c016c862097"
   },
   "outputs": [
    {
     "data": {
      "text/plain": [
       "'3.4'"
      ]
     },
     "execution_count": 25,
     "metadata": {},
     "output_type": "execute_result"
    }
   ],
   "source": [
    "str(3.4)"
   ]
  },
  {
   "cell_type": "markdown",
   "metadata": {
    "id": "lI-zajWaHZnW"
   },
   "source": [
    "`sorted(iterable)` 함수는 입력값을 정렬한 후 그 결과를 리스트로 돌려주는 함수이다."
   ]
  },
  {
   "cell_type": "code",
   "execution_count": null,
   "metadata": {
    "id": "CmBvw76QHZnW",
    "outputId": "a937b573-1d9f-4e5f-86d5-bc92670e89a3"
   },
   "outputs": [
    {
     "data": {
      "text/plain": [
       "[3, 2, 1]"
      ]
     },
     "execution_count": 26,
     "metadata": {},
     "output_type": "execute_result"
    }
   ],
   "source": [
    "sorted([3, 1, 2], reverse=True)"
   ]
  },
  {
   "cell_type": "code",
   "execution_count": null,
   "metadata": {
    "id": "vZqU_PxfHZnW",
    "outputId": "1e2aa10a-0a09-448e-c925-3c1ff1576d4a"
   },
   "outputs": [
    {
     "data": {
      "text/plain": [
       "['a', 'b', 'c']"
      ]
     },
     "execution_count": 27,
     "metadata": {},
     "output_type": "execute_result"
    }
   ],
   "source": [
    "sorted(['a', 'c', 'b'])"
   ]
  },
  {
   "cell_type": "code",
   "execution_count": null,
   "metadata": {
    "id": "xihv-LjKHZnW",
    "outputId": "714c358c-4cae-4c8e-c7a6-5249eee67bb1"
   },
   "outputs": [
    {
     "data": {
      "text/plain": [
       "['e', 'o', 'r', 'z']"
      ]
     },
     "execution_count": 28,
     "metadata": {},
     "output_type": "execute_result"
    }
   ],
   "source": [
    "sorted(\"zero\")"
   ]
  },
  {
   "cell_type": "code",
   "execution_count": null,
   "metadata": {
    "id": "DHsN-c2fHZnX",
    "outputId": "f232ff24-b05a-45b6-d8dc-996da2b0d0da"
   },
   "outputs": [
    {
     "data": {
      "text/plain": [
       "[1, 2, 3]"
      ]
     },
     "execution_count": 29,
     "metadata": {},
     "output_type": "execute_result"
    }
   ],
   "source": [
    "sorted((3, 2, 1))"
   ]
  },
  {
   "cell_type": "markdown",
   "metadata": {
    "id": "gClpmaPWHZnX"
   },
   "source": [
    "`round(number[, ndigits])` 함수는 숫자를 입력받아 반올림해 주는 함수이다."
   ]
  },
  {
   "cell_type": "code",
   "execution_count": null,
   "metadata": {
    "id": "19ZTBGxwHZnX",
    "outputId": "73f0ca14-a934-4ef9-a3e5-8ff5d7cce07e"
   },
   "outputs": [
    {
     "data": {
      "text/plain": [
       "5"
      ]
     },
     "execution_count": 30,
     "metadata": {},
     "output_type": "execute_result"
    }
   ],
   "source": [
    "round(4.6)"
   ]
  },
  {
   "cell_type": "code",
   "execution_count": null,
   "metadata": {
    "id": "pjBhqBFOHZnX",
    "outputId": "94c9e83a-f691-4034-cd06-4c0ff8e5df07"
   },
   "outputs": [
    {
     "data": {
      "text/plain": [
       "4"
      ]
     },
     "execution_count": 31,
     "metadata": {},
     "output_type": "execute_result"
    }
   ],
   "source": [
    "round(4.2)"
   ]
  },
  {
   "cell_type": "code",
   "execution_count": null,
   "metadata": {
    "id": "_0eRbRP0HZnX",
    "outputId": "63164e03-55c7-4c24-a709-aacf19200ce7"
   },
   "outputs": [
    {
     "data": {
      "text/plain": [
       "5.68"
      ]
     },
     "execution_count": 32,
     "metadata": {},
     "output_type": "execute_result"
    }
   ],
   "source": [
    "round(5.678, 2)"
   ]
  },
  {
   "cell_type": "markdown",
   "metadata": {
    "id": "6c9jCT1eHZnX"
   },
   "source": [
    "`map(f, iterable)`은 함수(f)와 반복 가능한(iterable) 자료형을 입력으로 받는다. map은 입력받은 자료형의 각 요소를 함수 f가 수행한 결과를 묶어서 돌려주는 함수이다."
   ]
  },
  {
   "cell_type": "code",
   "execution_count": null,
   "metadata": {
    "id": "hPEiOp2vHZnY"
   },
   "outputs": [],
   "source": [
    "def double(x):\n",
    "    return x*2"
   ]
  },
  {
   "cell_type": "code",
   "execution_count": null,
   "metadata": {
    "id": "5zlSuF4-HZnY",
    "outputId": "583df98c-d2d6-4ccf-be20-2f0fea9c016f"
   },
   "outputs": [
    {
     "data": {
      "text/plain": [
       "[2, 4, 6, 8]"
      ]
     },
     "execution_count": 34,
     "metadata": {},
     "output_type": "execute_result"
    }
   ],
   "source": [
    "list(map(double, [1, 2, 3, 4]))"
   ]
  },
  {
   "cell_type": "markdown",
   "metadata": {
    "id": "kY-2Ez8lHZnY"
   },
   "source": [
    "`input([prompt])`은 사용자 입력을 받는 함수이다. 매개변수로 문자열을 주면 그 문자열은 프롬프트가 된다."
   ]
  },
  {
   "cell_type": "code",
   "execution_count": null,
   "metadata": {
    "id": "6-yuZ_iAHZnY",
    "outputId": "69f93a3d-5ae6-4cf5-95b0-84d586888b1d"
   },
   "outputs": [
    {
     "name": "stdout",
     "output_type": "stream",
     "text": [
      "권유진\n"
     ]
    }
   ],
   "source": [
    "a = input()"
   ]
  },
  {
   "cell_type": "code",
   "execution_count": null,
   "metadata": {
    "id": "saMJoQ31HZnZ",
    "outputId": "50ad95a4-c261-4c52-a9b4-ceed70513ae9"
   },
   "outputs": [
    {
     "name": "stdout",
     "output_type": "stream",
     "text": [
      "name : 권유진\n"
     ]
    }
   ],
   "source": [
    "b = input('name : ')"
   ]
  },
  {
   "cell_type": "markdown",
   "metadata": {
    "id": "Voxw_D3VHZnZ"
   },
   "source": [
    "`enumerate`는 순서가 있는 자료형(리스트, 튜플, 문자열)을 입력으로 받아 인덱스 값을 포함하는 enumerate 객체를 돌려준다."
   ]
  },
  {
   "cell_type": "code",
   "execution_count": null,
   "metadata": {
    "id": "ffYzZYhSHZna",
    "outputId": "b94163c2-a7cd-475b-eadf-a1d66d3e4a00"
   },
   "outputs": [
    {
     "name": "stdout",
     "output_type": "stream",
     "text": [
      "0 고민성\n",
      "1 구준회\n",
      "2 권유진\n",
      "3 이태범\n"
     ]
    }
   ],
   "source": [
    "for i, name in enumerate(['고민성', '구준회', '권유진', '이태범']):\n",
    "    print(i, name)"
   ]
  },
  {
   "cell_type": "markdown",
   "metadata": {
    "id": "apsDq9N3HZna"
   },
   "source": [
    "`zip(*iterable)`은 동일한 개수로 이루어진 자료형을 묶어 주는 역할을 하는 함수이다."
   ]
  },
  {
   "cell_type": "code",
   "execution_count": null,
   "metadata": {
    "id": "iBrUvZYlHZnb",
    "outputId": "19521e5d-2409-4043-b3f4-f7bda1b7fb8e"
   },
   "outputs": [
    {
     "data": {
      "text/plain": [
       "[(1, 4), (2, 5), (3, 6)]"
      ]
     },
     "execution_count": 38,
     "metadata": {},
     "output_type": "execute_result"
    }
   ],
   "source": [
    "list(zip([1, 2, 3], [4, 5, 6]))"
   ]
  },
  {
   "cell_type": "code",
   "execution_count": null,
   "metadata": {
    "id": "-CJ3Mn0HHZnb",
    "outputId": "989f6c93-1051-4ede-a6c5-a1e2898317b7"
   },
   "outputs": [
    {
     "data": {
      "text/plain": [
       "[('a', 'd'), ('b', 'e'), ('c', 'f')]"
      ]
     },
     "execution_count": 39,
     "metadata": {},
     "output_type": "execute_result"
    }
   ],
   "source": [
    "list(zip(\"abc\", \"def\"))"
   ]
  },
  {
   "cell_type": "markdown",
   "metadata": {
    "id": "3ndgjO14HZnb"
   },
   "source": [
    "`zip(*iterable)`은 `dict()`와 함께 자주 사용한다."
   ]
  },
  {
   "cell_type": "code",
   "execution_count": null,
   "metadata": {
    "id": "Ge_MvYReHZnc",
    "outputId": "f5987056-f736-4979-b01c-5f85daf44974"
   },
   "outputs": [
    {
     "data": {
      "text/plain": [
       "{'가': 'a', '나': 'b', '다': 'c'}"
      ]
     },
     "execution_count": 40,
     "metadata": {},
     "output_type": "execute_result"
    }
   ],
   "source": [
    "dict(zip(['가','나','다'],['a','b','c']))"
   ]
  },
  {
   "cell_type": "markdown",
   "metadata": {
    "id": "W9DfYanMHZnc"
   },
   "source": [
    "### 모듈함수"
   ]
  },
  {
   "cell_type": "markdown",
   "metadata": {
    "id": "r3R6XBF9HZnc"
   },
   "source": [
    "- 파이썬 파일은 `.py` 확장자를 붙인다. \n",
    "- 하나의 파이썬 파일을 \"모듈\"이라고 부른다.\n",
    "\n",
    "<img align=\"left\" src=\"http://drive.google.com/uc?export=view&id=14tJyLDklDGVn7cndniOSdciEoMLUoGII\" width=600 height=400>"
   ]
  },
  {
   "cell_type": "markdown",
   "metadata": {
    "id": "X970IiABHZnc"
   },
   "source": [
    "모듈은 `import` 문으로 불러서 사용할 수 있다. 이떄 `.py`는 뺀 모듈명을 지정한다."
   ]
  },
  {
   "cell_type": "code",
   "execution_count": null,
   "metadata": {
    "id": "z0scoJ5cHZnd"
   },
   "outputs": [],
   "source": [
    "import mymath"
   ]
  },
  {
   "cell_type": "markdown",
   "metadata": {
    "id": "XP0jQTgZHZnd"
   },
   "source": [
    "`import`한 모듈 이름 뒤에 `.`을 붙이면 모듈의 변수나 함수에 접근할 수 있다."
   ]
  },
  {
   "cell_type": "code",
   "execution_count": null,
   "metadata": {
    "id": "3VUmLqIOHZnd",
    "outputId": "0e3b66b8-2bf6-46d3-8828-d52a5a0b45f6",
    "scrolled": true
   },
   "outputs": [
    {
     "data": {
      "text/plain": [
       "11"
      ]
     },
     "execution_count": 42,
     "metadata": {},
     "output_type": "execute_result"
    }
   ],
   "source": [
    "mymath.add(5, 6)"
   ]
  },
  {
   "cell_type": "code",
   "execution_count": null,
   "metadata": {
    "id": "wnOhjVm5HZnd",
    "outputId": "d92b72b8-6139-409e-ae02-bfad7c0dfd8d"
   },
   "outputs": [
    {
     "data": {
      "text/plain": [
       "-1"
      ]
     },
     "execution_count": 43,
     "metadata": {},
     "output_type": "execute_result"
    }
   ],
   "source": [
    "mymath.sub(5, 6)"
   ]
  },
  {
   "cell_type": "markdown",
   "metadata": {
    "id": "Fi_F7gPMHZne"
   },
   "source": [
    "사용의 편의를 위해 (긴) 모듈명 대신 약칭을 사용할 수 있다."
   ]
  },
  {
   "cell_type": "code",
   "execution_count": null,
   "metadata": {
    "id": "w59xGoGdHZne",
    "outputId": "68beca09-6133-4c8f-fa1e-c216bfa148be"
   },
   "outputs": [
    {
     "data": {
      "text/plain": [
       "11"
      ]
     },
     "execution_count": 44,
     "metadata": {},
     "output_type": "execute_result"
    }
   ],
   "source": [
    "import mymath as m\n",
    "m.add(5, 6)"
   ]
  },
  {
   "cell_type": "markdown",
   "metadata": {
    "id": "6uD6MorsHZne"
   },
   "source": [
    "`from`과 `import`를 사용하면 모듈의 함수나 변수를 직접 불러올 수 있다."
   ]
  },
  {
   "cell_type": "code",
   "execution_count": null,
   "metadata": {
    "id": "b0eX0goWHZne",
    "outputId": "8e33bb22-8118-4b6b-ebbd-b1dc8c50ff14"
   },
   "outputs": [
    {
     "data": {
      "text/plain": [
       "11"
      ]
     },
     "execution_count": 45,
     "metadata": {},
     "output_type": "execute_result"
    }
   ],
   "source": [
    "from mymath import add\n",
    "add(5, 6)"
   ]
  },
  {
   "cell_type": "code",
   "execution_count": null,
   "metadata": {
    "id": "lKTSnMnZHZne",
    "outputId": "91912d61-6dff-4c8d-8983-02860fe3cb6c"
   },
   "outputs": [
    {
     "data": {
      "text/plain": [
       "10"
      ]
     },
     "execution_count": 46,
     "metadata": {},
     "output_type": "execute_result"
    }
   ],
   "source": [
    "from mymath import add, sub\n",
    "add(5, 6) + sub(5, 6)"
   ]
  },
  {
   "cell_type": "markdown",
   "metadata": {
    "id": "mYOof90aHZnf"
   },
   "source": [
    "### 사용자 정의 함수"
   ]
  },
  {
   "cell_type": "markdown",
   "metadata": {
    "id": "tkvhTzv5HZnf"
   },
   "source": [
    "- 새로운 함수를 만들 때는 `def` 라는 키워드를 사용한다. `def`는 definition의 약자이다.\n",
    "- 함수를 실행(호출, call)시키고 싶을때, 함수명을 적어준 후 ()를 붙여준다.\n",
    "\n",
    "```python\n",
    "def function_name (argument1, argument2 ...):\n",
    "    과정 1\n",
    "    과정 2\n",
    "    return output\n",
    "\n",
    "function_name(argument1, argument2 ...)\n",
    "```"
   ]
  },
  {
   "cell_type": "code",
   "execution_count": null,
   "metadata": {
    "id": "Isp5Kx8_HZnf",
    "outputId": "08804a71-a0ba-4f44-9734-e166993068b1"
   },
   "outputs": [
    {
     "data": {
      "text/plain": [
       "'Hello World!'"
      ]
     },
     "execution_count": 47,
     "metadata": {},
     "output_type": "execute_result"
    }
   ],
   "source": [
    "def hello():\n",
    "    return 'Hello World!'\n",
    "\n",
    "hello()"
   ]
  },
  {
   "cell_type": "code",
   "execution_count": null,
   "metadata": {
    "id": "LiAH0C1vHZnf",
    "outputId": "febc82dc-6338-48c4-bec2-7e2138204e22"
   },
   "outputs": [
    {
     "data": {
      "text/plain": [
       "\"Hello World! I'm 유진\""
      ]
     },
     "execution_count": 48,
     "metadata": {},
     "output_type": "execute_result"
    }
   ],
   "source": [
    "def hello_name(my_name):\n",
    "    return \"Hello World! I'm \" + my_name\n",
    "\n",
    "hello_name('유진')"
   ]
  },
  {
   "cell_type": "markdown",
   "metadata": {
    "id": "HCQA66aEHZnf"
   },
   "source": [
    "`출력값, 입력값`을 `여러개`로도 할 수 있다.  \n",
    "출력값을 저장하고 싶을 때엔 출력값의 개수만큼 변수를 지정해줘야 한다."
   ]
  },
  {
   "cell_type": "code",
   "execution_count": null,
   "metadata": {
    "id": "y7Xiam-lHZng",
    "outputId": "68c1d210-592f-45d7-88a5-0a9e47b07f1e"
   },
   "outputs": [
    {
     "data": {
      "text/plain": [
       "(2, 4, 6, 8)"
      ]
     },
     "execution_count": 49,
     "metadata": {},
     "output_type": "execute_result"
    }
   ],
   "source": [
    "def my_function(a, b, c, d):\n",
    "    a = a + 1\n",
    "    b = b + 2\n",
    "    c = c + 3\n",
    "    d = d + 4\n",
    "    return a,b,c,d\n",
    "\n",
    "my_function(1,2,3,4)"
   ]
  },
  {
   "cell_type": "code",
   "execution_count": null,
   "metadata": {
    "id": "7RTmiISuHZnh"
   },
   "outputs": [],
   "source": [
    "x, y, z, w = my_function(1, 2, 3, 4)"
   ]
  },
  {
   "cell_type": "code",
   "execution_count": null,
   "metadata": {
    "id": "gujUNk-rHZni",
    "outputId": "63222b11-ccc5-4ad1-94c3-7165c8b4d01b"
   },
   "outputs": [
    {
     "data": {
      "text/plain": [
       "(2, 4, 6, 8)"
      ]
     },
     "execution_count": 51,
     "metadata": {},
     "output_type": "execute_result"
    }
   ],
   "source": [
    "x, y, z, w"
   ]
  },
  {
   "cell_type": "markdown",
   "metadata": {
    "id": "8D4dVOhtHZnj"
   },
   "source": [
    "함수의 인자가 여러 개인 경우 호출할 때마다 모든 인자를 넣어주는 것은 번거로운 작업일 수 있다.  \n",
    "=> 함수를 정의할 때 `인자의 기본값을 지정`하여, 인자를 생략하고 호출 시 해당 기본값이 인자 값이 되도록 할 수 있다."
   ]
  },
  {
   "cell_type": "code",
   "execution_count": null,
   "metadata": {
    "id": "RdRVbHpHHZnj",
    "outputId": "bd26338a-b1ea-46a9-c666-89a6135ff2e4"
   },
   "outputs": [
    {
     "data": {
      "text/plain": [
       "(3, 6, 9, 12)"
      ]
     },
     "execution_count": 52,
     "metadata": {},
     "output_type": "execute_result"
    }
   ],
   "source": [
    "def my_function(a=1, b=2, c=3, d=4):\n",
    "    a = a + 1\n",
    "    b = b + 2\n",
    "    c = c + 3\n",
    "    d = d + 4\n",
    "    return a,b,c,d\n",
    "\n",
    "my_function(2, 4, 6, 8)"
   ]
  },
  {
   "cell_type": "markdown",
   "metadata": {
    "id": "O6gcE46dHZnj"
   },
   "source": [
    "파이썬에서는 2가지 인자가 있는데 하나는 `positional argument`이고, 하나는 `keyword argument`이다.  \n",
    "전자는 말그대로 위치에 따라 정해지는 인자이며, 후자는 키워드(이름)를 가진 인자를 말한다."
   ]
  },
  {
   "cell_type": "code",
   "execution_count": null,
   "metadata": {
    "id": "gP2APl8NHZnj",
    "outputId": "4217dd4d-b3c2-4eb8-f929-eaf987dc33f5"
   },
   "outputs": [
    {
     "data": {
      "text/plain": [
       "21"
      ]
     },
     "execution_count": 53,
     "metadata": {},
     "output_type": "execute_result"
    }
   ],
   "source": [
    "def func(x, y):\n",
    "    return x*10 + y\n",
    "\n",
    "func(1, 2)\n",
    "func(2, 1)"
   ]
  },
  {
   "cell_type": "code",
   "execution_count": null,
   "metadata": {
    "id": "ygzAItqZHZnj",
    "outputId": "69a30729-33b1-41ec-abc2-079c58656ae3"
   },
   "outputs": [
    {
     "data": {
      "text/plain": [
       "12"
      ]
     },
     "execution_count": 54,
     "metadata": {},
     "output_type": "execute_result"
    }
   ],
   "source": [
    "func(y=2, x=1)"
   ]
  },
  {
   "cell_type": "markdown",
   "metadata": {
    "id": "yvFYv8HEHZnk"
   },
   "source": [
    "<font color='red'><b>\n",
    "[Live Coding] 주어진 리스트의 최대값과 최소값의 차이를 반환하는 함수를 만들고 결과를 출력하시오.\n",
    "</b></font>"
   ]
  },
  {
   "cell_type": "code",
   "execution_count": null,
   "metadata": {
    "id": "dqvun7imHZnk"
   },
   "outputs": [],
   "source": [
    "practice_list = [9,2,4,1,6,3,7]\n",
    "\n",
    "# code here\n"
   ]
  },
  {
   "cell_type": "markdown",
   "metadata": {
    "id": "4ycGCPpnHZnk"
   },
   "source": [
    "### 무명함수"
   ]
  },
  {
   "cell_type": "markdown",
   "metadata": {
    "id": "8A05qB18HZnk"
   },
   "source": [
    "- `lambda`는 이름이 없는 함수로 한번 쓰고 버리는 일회성 함수이다. \n",
    "- 즉, 일반적인 함수와 같이 한번 정의한 후 여러번 쓰는 것이 아니고 필요한 곳에서 한번만 사용한다.\n",
    "- `lambda` 정의에는 `return` 문이 포함되어 있지 않고, 대신 반환값을 만드는 표현식이 있다. \n",
    "\n",
    "```python\n",
    "함수이름 = lambda 인자 : 수식\n",
    "```"
   ]
  },
  {
   "cell_type": "code",
   "execution_count": null,
   "metadata": {
    "id": "zFsMrDAgHZnk",
    "outputId": "f1a0514a-44ab-4e30-93d5-5590208e7b50"
   },
   "outputs": [
    {
     "data": {
      "text/plain": [
       "30"
      ]
     },
     "execution_count": 56,
     "metadata": {},
     "output_type": "execute_result"
    }
   ],
   "source": [
    "function = lambda x, y : x + y\n",
    "function(10, 20)"
   ]
  },
  {
   "cell_type": "code",
   "execution_count": null,
   "metadata": {
    "id": "a0qKU8qsHZnl",
    "outputId": "c6f967f7-a445-4c1a-c6e6-15b56db2fc47"
   },
   "outputs": [
    {
     "data": {
      "text/plain": [
       "200"
      ]
     },
     "execution_count": 57,
     "metadata": {},
     "output_type": "execute_result"
    }
   ],
   "source": [
    "function = lambda x, y : x * y\n",
    "function(10, 20)"
   ]
  },
  {
   "cell_type": "markdown",
   "metadata": {
    "id": "IJ0HmwLLHZnl"
   },
   "source": [
    "일반함수가 사용될 수 있는 곳에는 어디라도 `lambda` 정의를 넣을 수 있으며, 반드시 변수에 할당하여 사용할 필요는 없다.  \n",
    "`map()` 함수를 사용하게 되면 해당 함수를 리스트의 모든 원소에 적용한 값을 return한다.\n",
    "```python\n",
    "map(function, list)\n",
    "```"
   ]
  },
  {
   "cell_type": "code",
   "execution_count": null,
   "metadata": {
    "id": "ojqYnlYDHZnl"
   },
   "outputs": [],
   "source": [
    "# my_list에서 리스트의 모든 원소들의 제곱근 값을 출력하는 함수\n",
    "my_list = [i for i in range(1,11)]"
   ]
  },
  {
   "cell_type": "code",
   "execution_count": null,
   "metadata": {
    "id": "3CHlrRYvHZnm",
    "outputId": "1850b096-f73e-498c-95c7-8af0257be43d"
   },
   "outputs": [
    {
     "data": {
      "text/plain": [
       "[1, 2, 3, 4, 5, 6, 7, 8, 9, 10]"
      ]
     },
     "execution_count": 59,
     "metadata": {},
     "output_type": "execute_result"
    }
   ],
   "source": [
    "my_list"
   ]
  },
  {
   "cell_type": "code",
   "execution_count": null,
   "metadata": {
    "id": "7ZYKd2W8HZnm",
    "outputId": "886e9821-f7f2-4561-b735-8a86fa98cc01"
   },
   "outputs": [
    {
     "name": "stdout",
     "output_type": "stream",
     "text": [
      "[1.0, 1.4142135623730951, 1.7320508075688772, 2.0, 2.23606797749979, 2.449489742783178, 2.6457513110645907, 2.8284271247461903, 3.0, 3.1622776601683795]\n"
     ]
    }
   ],
   "source": [
    "# def 함수 사용\n",
    "def my_func(x):\n",
    "    return x ** (1/2)\n",
    "\n",
    "for i in range(len(my_list)):\n",
    "    my_list[i] = my_func(my_list[i])\n",
    "\n",
    "print(my_list)"
   ]
  },
  {
   "cell_type": "code",
   "execution_count": null,
   "metadata": {
    "id": "GO5QsAo0HZnm",
    "outputId": "fba81f31-9e4a-47c7-8c49-3162c7a46843"
   },
   "outputs": [
    {
     "data": {
      "text/plain": [
       "[1.0,\n",
       " 1.189207115002721,\n",
       " 1.3160740129524924,\n",
       " 1.4142135623730951,\n",
       " 1.4953487812212205,\n",
       " 1.5650845800732873,\n",
       " 1.6265765616977859,\n",
       " 1.6817928305074292,\n",
       " 1.7320508075688772,\n",
       " 1.7782794100389228]"
      ]
     },
     "execution_count": 61,
     "metadata": {},
     "output_type": "execute_result"
    }
   ],
   "source": [
    "# lambda 힘수 사용\n",
    "list(map(lambda x : x ** (1/2), my_list))"
   ]
  },
  {
   "cell_type": "markdown",
   "metadata": {
    "id": "MD4zQpXEHZnm"
   },
   "source": [
    "<font color='red'><b>\n",
    "[Live Coding] my_list에서 3의 배수이면 문자열로, 나머지는 그대로 출력하는 lambda 함수를 만드시오.\n",
    "</b></font>"
   ]
  },
  {
   "cell_type": "markdown",
   "metadata": {
    "id": "UUp1sIfEHZnn"
   },
   "source": [
    "lambda 안에 조건문을 사용하고 싶을 땐 다음과 같이 사용한다.\n",
    "```python\n",
    "lambda 변수 : 조건문1 맞을때 실행문1 if 조건문1 else 조건문1 틀릴때 실행문\n",
    "```"
   ]
  },
  {
   "cell_type": "code",
   "execution_count": null,
   "metadata": {
    "id": "GIXf-BvhHZnn"
   },
   "outputs": [],
   "source": [
    "my_list = [i for i in range(1,11)]\n",
    "\n",
    "# code here\n"
   ]
  },
  {
   "cell_type": "markdown",
   "metadata": {
    "id": "GViVPea4HZnn"
   },
   "source": [
    "<font color='red'><b>\n",
    "[Live Coding] my_list에서 1이면 문자열로, 2면 실수형으로, 나머지는 +10을 출력해주는 lambda 함수를 만드시오.\n",
    "</b></font>"
   ]
  },
  {
   "cell_type": "markdown",
   "metadata": {
    "id": "OrFi1uEPHZnn"
   },
   "source": [
    "lambda는 elif를 사용할 수 없고, 대신 `if else`문을 여러번 사용해야 한다.\n",
    "```python\n",
    "lambda 변수 : 실행문1 if 조건문1 else 실행문2 if 조건문2 else 실행문3\n",
    "```"
   ]
  },
  {
   "cell_type": "code",
   "execution_count": null,
   "metadata": {
    "id": "SB-991t6HZnn"
   },
   "outputs": [],
   "source": [
    "# code here\n"
   ]
  },
  {
   "cell_type": "markdown",
   "metadata": {
    "id": "nn3cM0PlHZnn"
   },
   "source": [
    "# 문자열 formatting"
   ]
  },
  {
   "cell_type": "markdown",
   "metadata": {
    "id": "BLpo6n8ZHZno"
   },
   "source": [
    "### % 서식\n",
    "%자료형’%값  \n",
    "문자열 안에 `%s, %d, %f` 등을 넣어준 후, %기호 뒤에 원하는 값을 넣는다."
   ]
  },
  {
   "cell_type": "code",
   "execution_count": null,
   "metadata": {
    "id": "Qif08xarHZno",
    "outputId": "c810ffef-0072-43a7-b391-c77850a18865",
    "scrolled": true
   },
   "outputs": [
    {
     "data": {
      "text/plain": [
       "'제 이름은 권유진이고, 나이는 24입니다.'"
      ]
     },
     "execution_count": 65,
     "metadata": {},
     "output_type": "execute_result"
    }
   ],
   "source": [
    "'제 이름은 %s이고, 나이는 %d입니다.'%('권유진', 24)"
   ]
  },
  {
   "cell_type": "markdown",
   "metadata": {
    "id": "hVUQgL4aHZno"
   },
   "source": [
    "`변수`를 지정해서 대입할 수도 있다."
   ]
  },
  {
   "cell_type": "code",
   "execution_count": null,
   "metadata": {
    "id": "gBkjE7yLHZno",
    "outputId": "c539df00-656c-45f8-b00b-f036f103a9e7"
   },
   "outputs": [
    {
     "data": {
      "text/plain": [
       "'제 이름은 권유진이고, 나이는 24입니다.'"
      ]
     },
     "execution_count": 66,
     "metadata": {},
     "output_type": "execute_result"
    }
   ],
   "source": [
    "name = '권유진'\n",
    "age = 24\n",
    "\n",
    "'제 이름은 %s이고, 나이는 %d입니다.'%(name, age)"
   ]
  },
  {
   "cell_type": "markdown",
   "metadata": {
    "id": "1RU9NlxkHZnp"
   },
   "source": [
    "간단한 `사칙연산`도 가능하다."
   ]
  },
  {
   "cell_type": "code",
   "execution_count": null,
   "metadata": {
    "id": "Y_oyZ3JIHZnp",
    "outputId": "aac7ef8e-ac6f-461d-d45f-2eb4ead1b028"
   },
   "outputs": [
    {
     "data": {
      "text/plain": [
       "'저는 지금 24살이고, 10년 뒤엔 34살이 됩니다.'"
      ]
     },
     "execution_count": 67,
     "metadata": {},
     "output_type": "execute_result"
    }
   ],
   "source": [
    "'저는 지금 %d살이고, 10년 뒤엔 %d살이 됩니다.'%(age, age+10)"
   ]
  },
  {
   "cell_type": "markdown",
   "metadata": {
    "id": "zVOdBZ9dHZnp"
   },
   "source": [
    "### format\n",
    "문자열에 원하는 값을 대입할 수 있게 해준다.  \n",
    "문자열 안에 `{ }`를 넣어준 후, `format()`을 부르고 안에 원하는 값을 넣는다."
   ]
  },
  {
   "cell_type": "code",
   "execution_count": null,
   "metadata": {
    "id": "zUG9VamWHZnp",
    "outputId": "31b97182-0c80-4b37-907f-022bfac69fbc"
   },
   "outputs": [
    {
     "data": {
      "text/plain": [
       "'제 이름은 권유진이고, 나이는 24입니다.'"
      ]
     },
     "execution_count": 68,
     "metadata": {},
     "output_type": "execute_result"
    }
   ],
   "source": [
    "'제 이름은 {}이고, 나이는 {}입니다.'.format('권유진', '24')"
   ]
  },
  {
   "cell_type": "code",
   "execution_count": null,
   "metadata": {
    "id": "A8WkMZZbHZnq",
    "outputId": "d92051df-ab1d-45b6-c648-4ab607e270e2"
   },
   "outputs": [
    {
     "data": {
      "text/plain": [
       "'제 이름은 권유진이고, 나이는 24입니다.'"
      ]
     },
     "execution_count": 69,
     "metadata": {},
     "output_type": "execute_result"
    }
   ],
   "source": [
    "name = '권유진'\n",
    "age = 24\n",
    "\n",
    "'제 이름은 {}이고, 나이는 {}입니다.'.format(name, age)"
   ]
  },
  {
   "cell_type": "code",
   "execution_count": null,
   "metadata": {
    "id": "lEC4wnSVHZnq",
    "outputId": "356a8765-14a0-477d-b47a-5ff4b073bdb4"
   },
   "outputs": [
    {
     "data": {
      "text/plain": [
       "'저는 지금 24살이고, 10년 뒤엔 34살이 됩니다.'"
      ]
     },
     "execution_count": 70,
     "metadata": {},
     "output_type": "execute_result"
    }
   ],
   "source": [
    "'저는 지금 {}살이고, 10년 뒤엔 {}살이 됩니다.'.format(age, age+10)"
   ]
  },
  {
   "cell_type": "markdown",
   "metadata": {
    "id": "huGXQyusHZnq"
   },
   "source": [
    "`숫자 자리수`나 `소숫점 자리수`를 지정할 수 있다.  \n",
    "온점 앞은 `전체 자릿수`, 뒤는 `소수점 아래 자릿수`를 맞추는 것이다."
   ]
  },
  {
   "cell_type": "code",
   "execution_count": null,
   "metadata": {
    "id": "U6mUlpi0HZnr",
    "outputId": "c61324d8-4465-41d1-ef4b-8c0bf50db581"
   },
   "outputs": [
    {
     "data": {
      "text/plain": [
       "'제 키는  176.6cm이며, 몸무게는 70.8kg, 체지방률은 20.57%입니다'"
      ]
     },
     "execution_count": 71,
     "metadata": {},
     "output_type": "execute_result"
    }
   ],
   "source": [
    "'제 키는 {:6}cm이며, 몸무게는 {:.1f}kg, 체지방률은 {:2.2%}입니다'.format(176.6, 70.8, 0.20567)"
   ]
  },
  {
   "cell_type": "markdown",
   "metadata": {
    "id": "Y_fNICcBHZnr"
   },
   "source": [
    "### f-string\n",
    "파이썬 3.6버전 이상에서 지원하는 새로운 문자열 포매팅 방법이다.  \n",
    "문자열 앞에 `f`를 붙이면 된다."
   ]
  },
  {
   "cell_type": "code",
   "execution_count": null,
   "metadata": {
    "id": "_w_dGtKeHZnr",
    "outputId": "3178dcb1-73ea-415e-99c9-ba0de0b362a3"
   },
   "outputs": [
    {
     "data": {
      "text/plain": [
       "'제 이름은 권유진입니다. 나이는 24입니다.'"
      ]
     },
     "execution_count": 72,
     "metadata": {},
     "output_type": "execute_result"
    }
   ],
   "source": [
    "name = '권유진'\n",
    "age = 24\n",
    "\n",
    "f'제 이름은 {name}입니다. 나이는 {age}입니다.'"
   ]
  },
  {
   "cell_type": "code",
   "execution_count": null,
   "metadata": {
    "id": "8GvJ7sLmHZns",
    "outputId": "970d2a90-bfb1-4eb6-dcb8-111b385a534e"
   },
   "outputs": [
    {
     "data": {
      "text/plain": [
       "'저는 지금 24살이고, 10년 뒤엔 34살이 됩니다.'"
      ]
     },
     "execution_count": 73,
     "metadata": {},
     "output_type": "execute_result"
    }
   ],
   "source": [
    "f'저는 지금 {age}살이고, 10년 뒤엔 {age+10}살이 됩니다.'"
   ]
  },
  {
   "cell_type": "markdown",
   "metadata": {
    "id": "5dw7NizhHZns"
   },
   "source": [
    "<font color='red'><b>\n",
    "[Live Coding] 자신의 성별과 혈액형을 세가지 string formatting을 통해 출력해보시오.\n",
    "</b></font>"
   ]
  },
  {
   "cell_type": "code",
   "execution_count": null,
   "metadata": {
    "id": "XRu-a9kdHZns"
   },
   "outputs": [],
   "source": [
    "# code here\n",
    "gender = ''\n",
    "blood = ''\n"
   ]
  },
  {
   "cell_type": "markdown",
   "metadata": {
    "id": "MiYdDyK_HZns"
   },
   "source": [
    "# 문자열 method"
   ]
  },
  {
   "cell_type": "markdown",
   "metadata": {
    "id": "so4vRKx9HZnt"
   },
   "source": [
    "### join\n",
    "str을 구분점으로 list의 원소들을 string으로 합쳐준다.\n",
    "```python\n",
    "str.join(list)\n",
    "```"
   ]
  },
  {
   "cell_type": "code",
   "execution_count": null,
   "metadata": {
    "id": "1I9GBnBSHZnt",
    "outputId": "71998c92-e348-44f6-be74-0fe54f145da5"
   },
   "outputs": [
    {
     "data": {
      "text/plain": [
       "'a,b,c,d'"
      ]
     },
     "execution_count": 77,
     "metadata": {},
     "output_type": "execute_result"
    }
   ],
   "source": [
    "\",\".join('abcd')"
   ]
  },
  {
   "cell_type": "markdown",
   "metadata": {
    "id": "0-02qQptHZnt"
   },
   "source": [
    "문자열뿐만 아니라 `리스트`나 `튜플`도 입력으로 사용할 수 있다."
   ]
  },
  {
   "cell_type": "code",
   "execution_count": null,
   "metadata": {
    "id": "jFUN1lLmHZnt",
    "outputId": "af2375cc-1246-48f7-e6a5-853222e599ee"
   },
   "outputs": [
    {
     "data": {
      "text/plain": [
       "'a,b,c,d'"
      ]
     },
     "execution_count": 78,
     "metadata": {},
     "output_type": "execute_result"
    }
   ],
   "source": [
    "\",\".join(['a', 'b', 'c', 'd'])"
   ]
  },
  {
   "cell_type": "markdown",
   "metadata": {
    "id": "NGALkUkSHZnu"
   },
   "source": [
    "### split\n",
    "string을 기준으로 str을 나눠서 list로 바꿔준다.\n",
    "```python\n",
    "str.split(string)\n",
    "```"
   ]
  },
  {
   "cell_type": "markdown",
   "metadata": {
    "id": "8Yc3lMdfHZnu"
   },
   "source": [
    "괄호 안에 아무 값도 넣어 주지 않으면 `공백(스페이스, 탭, 엔터 등)`을 기준으로 문자열을 나누어 준다. "
   ]
  },
  {
   "cell_type": "code",
   "execution_count": null,
   "metadata": {
    "id": "i0wpW7UqHZnu",
    "outputId": "4effee7e-5ff7-4830-d927-5fdddf4f9237"
   },
   "outputs": [
    {
     "data": {
      "text/plain": [
       "['Life', 'is', 'too', 'short']"
      ]
     },
     "execution_count": 79,
     "metadata": {},
     "output_type": "execute_result"
    }
   ],
   "source": [
    "s = \"Life is too short\"\n",
    "s.split()"
   ]
  },
  {
   "cell_type": "markdown",
   "metadata": {
    "id": "QjOozRysHZnv"
   },
   "source": [
    "괄호 안에 특정 값이 있을 경우에는 괄호 안의 값을 `구분자`로 해서 문자열을 나누어 준다. "
   ]
  },
  {
   "cell_type": "code",
   "execution_count": null,
   "metadata": {
    "id": "5Fs7dxe3HZnv",
    "outputId": "293c9ea2-f633-4299-e22f-4ed959fcea57"
   },
   "outputs": [
    {
     "data": {
      "text/plain": [
       "['Life', 'is', 'too', 'short']"
      ]
     },
     "execution_count": 80,
     "metadata": {},
     "output_type": "execute_result"
    }
   ],
   "source": [
    "s = \"Life_is_too_short\"\n",
    "s.split(\"_\")"
   ]
  },
  {
   "cell_type": "markdown",
   "metadata": {
    "id": "XWUKneI5HZnv"
   },
   "source": [
    "### replace\n",
    "old를 new로 count만큼 바꿔준다.\n",
    "```python\n",
    "str.replace(old, new, *count) \n",
    "```        "
   ]
  },
  {
   "cell_type": "code",
   "execution_count": null,
   "metadata": {
    "id": "o18153R_HZnw",
    "outputId": "45350fe8-6ab4-4bb6-f39c-a8deda590ca4"
   },
   "outputs": [
    {
     "data": {
      "text/plain": [
       "'xxa-bbb-ccc'"
      ]
     },
     "execution_count": 81,
     "metadata": {},
     "output_type": "execute_result"
    }
   ],
   "source": [
    "s = \"aaa-bbb-ccc\"\n",
    "s.replace('a', 'x', 2)"
   ]
  },
  {
   "cell_type": "markdown",
   "metadata": {
    "id": "PE85rHoaHZnw"
   },
   "source": [
    "`여러개의 문자`를 기준으로 문자열을 바꿔줄 수 있다."
   ]
  },
  {
   "cell_type": "code",
   "execution_count": null,
   "metadata": {
    "id": "HMfVokGIHZnw",
    "outputId": "986a0b5f-383a-4c22-eddd-e938c0d95bf3"
   },
   "outputs": [
    {
     "data": {
      "text/plain": [
       "'Hey you  what are you doing here'"
      ]
     },
     "execution_count": 82,
     "metadata": {},
     "output_type": "execute_result"
    }
   ],
   "source": [
    "s = 'Hey, you - what are you doing here!?'\n",
    "s.replace(',', '').replace('-', '').replace('!', '').replace('?', '')"
   ]
  },
  {
   "cell_type": "markdown",
   "metadata": {
    "id": "yclRJkEsHZnw"
   },
   "source": [
    "### in, not in\n",
    "`in`을 사용해 문자열 안에 해당 글자가 포함되었는지 확인할 수 있다.  \n",
    "`not in`을 사용해 반대로 해당 글자가 없는지 확인할 수 있다."
   ]
  },
  {
   "cell_type": "code",
   "execution_count": null,
   "metadata": {
    "id": "K8o2CD3QHZnx",
    "outputId": "0274b80a-6879-4f6f-f8a3-0639b662540c"
   },
   "outputs": [
    {
     "data": {
      "text/plain": [
       "True"
      ]
     },
     "execution_count": 83,
     "metadata": {},
     "output_type": "execute_result"
    }
   ],
   "source": [
    "'a' in 'abc'"
   ]
  },
  {
   "cell_type": "code",
   "execution_count": null,
   "metadata": {
    "id": "ojscbEVZHZnx",
    "outputId": "a9ddfe96-2598-4d74-dd74-4f648083ae3d"
   },
   "outputs": [
    {
     "data": {
      "text/plain": [
       "True"
      ]
     },
     "execution_count": 84,
     "metadata": {},
     "output_type": "execute_result"
    }
   ],
   "source": [
    "'x' not in 'abc'"
   ]
  },
  {
   "cell_type": "markdown",
   "metadata": {
    "id": "32lg_6LwHZnz"
   },
   "source": [
    "문자열뿐만 아니라 `리스트`나 `튜플`도 입력으로 사용할 수 있다."
   ]
  },
  {
   "cell_type": "code",
   "execution_count": null,
   "metadata": {
    "id": "89zjoy2bHZn0",
    "outputId": "3e094809-aefb-4d35-c552-cc50eab87b20"
   },
   "outputs": [
    {
     "data": {
      "text/plain": [
       "True"
      ]
     },
     "execution_count": 85,
     "metadata": {},
     "output_type": "execute_result"
    }
   ],
   "source": [
    "1 in [1, 2, 3]"
   ]
  },
  {
   "cell_type": "code",
   "execution_count": null,
   "metadata": {
    "id": "xPOtQjugHZn0",
    "outputId": "70065d76-fbb0-4fe7-d047-fce0f55bc3f7"
   },
   "outputs": [
    {
     "data": {
      "text/plain": [
       "False"
      ]
     },
     "execution_count": 86,
     "metadata": {},
     "output_type": "execute_result"
    }
   ],
   "source": [
    "'a' not in ('a', 'b', 'c')"
   ]
  }
 ],
 "metadata": {
  "colab": {
   "name": "3차시 실습자료.ipynb",
   "provenance": []
  },
  "kernelspec": {
   "display_name": "Python 3",
   "language": "python",
   "name": "python3"
  },
  "language_info": {
   "codemirror_mode": {
    "name": "ipython",
    "version": 3
   },
   "file_extension": ".py",
   "mimetype": "text/x-python",
   "name": "python",
   "nbconvert_exporter": "python",
   "pygments_lexer": "ipython3",
   "version": "3.8.5"
  }
 },
 "nbformat": 4,
 "nbformat_minor": 1
}
