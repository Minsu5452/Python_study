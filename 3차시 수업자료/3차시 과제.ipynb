{
 "cells": [
  {
   "cell_type": "markdown",
   "metadata": {
    "id": "7DTd502aOtsX"
   },
   "source": [
    "# 겨울방학 파이썬 스터디 3차시 과제"
   ]
  },
  {
   "cell_type": "markdown",
   "metadata": {
    "id": "RXB2PBExOtsd"
   },
   "source": [
    "### 난이도 하 (1점)"
   ]
  },
  {
   "cell_type": "markdown",
   "metadata": {
    "id": "0ICKmYi9Otse"
   },
   "source": [
    "**Q1.** 인자(argument)로 집합이 주어졌을 때, 만들어질 수 있는 부분집합의 개수를 구하는 함수를 정의하고 해당 함수를 사용하여 set1의 부분집합 개수를 구하시오. (단, 공집합은 포함하지 않음)\n",
    "\n",
    "<font color='blue'>hint</font>: $2^n-1$\n",
    "\n",
    "```python\n",
    "set1 = [1,2,3,4,5]\n",
    "```"
   ]
  },
  {
   "cell_type": "code",
   "execution_count": 3,
   "metadata": {
    "id": "oRn-1QWFOtsf"
   },
   "outputs": [
    {
     "data": {
      "text/plain": [
       "31"
      ]
     },
     "execution_count": 3,
     "metadata": {},
     "output_type": "execute_result"
    }
   ],
   "source": [
    "# code here\n",
    "set1 = [1,2,3,4,5]\n",
    "def abc(x) :\n",
    "    n = len(x)\n",
    "    return 2**n - 1\n",
    "abc(set1)"
   ]
  },
  {
   "cell_type": "markdown",
   "metadata": {
    "id": "gnZTPPfiOtsi"
   },
   "source": [
    "**Q2.** 이름을 입력하면 파이썬 스터디 멘토인지 판별해주는 함수를 정의하고 본인의 이름을 인자(argument)로 하여 결과를 출력하시오.\n",
    "\n",
    "( ex. 권유진 -> 멘토가 맞습니다. / 김철수 -> 멘토가 아닙니다. )"
   ]
  },
  {
   "cell_type": "code",
   "execution_count": 14,
   "metadata": {
    "id": "IKYI2jtDOtsi"
   },
   "outputs": [
    {
     "name": "stdout",
     "output_type": "stream",
     "text": [
      "이름을 입력하세요: 권유진\n"
     ]
    },
    {
     "data": {
      "text/plain": [
       "'멘토가 맞습니다.'"
      ]
     },
     "execution_count": 14,
     "metadata": {},
     "output_type": "execute_result"
    }
   ],
   "source": [
    "# code here\n",
    "a = input('이름을 입력하세요: ')\n",
    "def abc(x):\n",
    "    mentos = ['권유진','고민성','이태범','구준회']\n",
    "    if x in mentos :\n",
    "        return '멘토가 맞습니다.'\n",
    "    else : \n",
    "        return '멘토가 아닙니다'\n",
    "abc(a)"
   ]
  },
  {
   "cell_type": "markdown",
   "metadata": {
    "id": "qIf3JNCfOtsj"
   },
   "source": [
    "**Q3.** 다음은 점수에 따라 학점을 부여하는 기준이다. 아래 학생들의 점수가 담긴 리스트를 통해 lambda 함수를 활용하여 학생들의 학점이 담긴 리스트를 만드시오.\n",
    "\n",
    "|학점|점수|\n",
    "|-|-|\n",
    "|A|90점 이상|\n",
    "|B|80점 이상|\n",
    "|C|70점 이상|\n",
    "|F|70점 미만|\n",
    "\n",
    "```python\n",
    "score = [91,51,82,25,62,70]\n",
    "```"
   ]
  },
  {
   "cell_type": "code",
   "execution_count": 18,
   "metadata": {
    "id": "nD-lTtZPOtsk"
   },
   "outputs": [
    {
     "data": {
      "text/plain": [
       "['A', 'F', 'B', 'F', 'F', 'C']"
      ]
     },
     "execution_count": 18,
     "metadata": {},
     "output_type": "execute_result"
    }
   ],
   "source": [
    "# code here\n",
    "score = [91,51,82,25,62,70]\n",
    "list(map(lambda x : 'A' if x >= 90 else ('B' if x >= 80 else ('C' if x >= 70 else 'F')), score))"
   ]
  },
  {
   "cell_type": "markdown",
   "metadata": {
    "id": "UF1fDDpzOtsl"
   },
   "source": [
    "**Q4.** 다음 문장 `변수 squirrel`을 활용하여 아래 문제들을 푸시오."
   ]
  },
  {
   "cell_type": "code",
   "execution_count": 19,
   "metadata": {},
   "outputs": [],
   "source": [
    "# 코드를 건드리지 말고 실행하시오.\n",
    "\n",
    "squirrel = \"위 영상에 출연한 줄무늬 다람쥐는 산에서 흔히 볼 수 있는 동물이고 이에 따라 다람쥐는 '산골짝의 다람쥐'라는 동요까지 있을 정도로 한국인에게 친숙하다. 북아메리카와 동아시아 북동부에서 사는 설치류의 한 종류이다. 등에 줄무늬가 있는 것이 특징이다. 대부분의 종이 북아메리카에서 살며, 한국과 동아시아에서 사는 시베리아 다람쥐는 전 다람쥐 중에서 유일하게 북아메리카 이외의 지역에 사는 종이다. 어원은 'ᄃᆞᄅᆞᆷ+쥐'로, 'ᄃᆞᄅᆞᆷ'은 '달리다(走)'라는 뜻인 'ᄃᆞᆮ다'의 명사형이다. 재빠르게 잘 달리는 쥐라는 뜻인데, 현대국어식으로 바꾸면 '달림쥐' 또는 '달리기쥐' 라고 할 수 있겠다. 작은 동물이 대부분 그렇듯이 경계심이 많고 색 자체가 보호색을 띠고 있기 때문에 얼핏 지나치면 보기 힘들지만, 사실은 동네 뒷산에만 가도 서식할 정도로 널리고 널린 동물이다. 사람을 자주 봐서 겁을 내지 않는 다람쥐들은 오히려 등산객의 간식을 노리고 다가오기도 한다. 하지만 웬만하면 먹을 것을 주지 말자. 귀엽다고 자꾸 주게 되면 다람쥐가 사람이 주는 먹이에 익숙해져 다른 먹이를 구하지 않게 되고, 겨울을 버티는 능력이 떨어지게 된다. 먹는 모습이 귀엽더라도 가능하면 눈으로만 바라보자. '산골짝의 다람쥐 아기 다람쥐'라는 논란(?)의 동요로도 친숙하다. 국립국어원 공식 홈페이지에 '산골짝의, 산골짝에, 산골짜기 다람쥐 어떤게 맞나요?'란 질문과 답변이 올라와 있을 정도.(...) 답변에는 '산골짝의 다람쥐'가 맞다고 한다. 하지만 인터넷에 이 동요를 검색해보면, '산골짜기 다람쥐' '산골짝에 다람쥐' 등 중구난방으로 나오는데, '산골짝의'보다는 '산골짝에'가 더 많다. 그 이유는 '의'가 발음상 '에'처럼 들리는 데다가, 의미상으로도 크게 틀리지 않으니 그런 듯. 하지만 2019년 작곡가인 박재훈 목사의 근황을 전하는 기사에서는 '산골짝의'라고 정확히 썼다. 하지만 산골짝이라는 단어 자체가 산골짜기의 준말이기 때문에 동요의 제목과는 별도로 산골짜기 다람쥐라는 말 자체는 문법적으로 틀린말은 아니다. 주식은 견과류나 나무 열매이지만, 곤충과 도마뱀들을 잡아먹는 모습을 보인다. 생각보다 잔인해서 드물게 동족도 잡아먹기도 한다. 다람쥐는 엄연히 잡식성 동물로, 대부분의 동물들은 필요할 때만 먹이를 구하지만, 다람쥐는 먹이를 저장해 두는 것으로 유명하다. 특히 볼주머니는 탄력이 좋아, 땅콩 7~8개 정도는 쉽게 들어간다. 다람쥐 볼주머니의 탄력은 엄청나서, 만약 인간이 다람쥐의 볼주머니가 있다면 입 안에 대형견 한 마리 정도를 통째로 집어넣을 수 있을 정도로 늘어날 것이라 한다. 이렇게 저장한 먹이는 둥지로 나르거나 땅에 묻어 보관한다. 야생이 아닌 애완용 다람쥐도 먹이를 볼 주머니에 넣어 다른 곳에 저장하는 행동을 보이기도 한다.\""
   ]
  },
  {
   "cell_type": "markdown",
   "metadata": {},
   "source": [
    "1) 해당 문장에서 다람쥐가 몇번 등장하는 지 찾는 코드를 작성하고 결과를 출력하시오."
   ]
  },
  {
   "cell_type": "code",
   "execution_count": 21,
   "metadata": {},
   "outputs": [
    {
     "data": {
      "text/plain": [
       "19"
      ]
     },
     "execution_count": 21,
     "metadata": {},
     "output_type": "execute_result"
    }
   ],
   "source": [
    "# code here\n",
    "squirrel.count('다람쥐')"
   ]
  },
  {
   "cell_type": "markdown",
   "metadata": {},
   "source": [
    "2) 해당 문장을 `.`을 기준으로 나눠 `sentences` 변수에 리스트로 저장하고 결과를 출력하시오."
   ]
  },
  {
   "cell_type": "code",
   "execution_count": 25,
   "metadata": {},
   "outputs": [
    {
     "data": {
      "text/plain": [
       "[\"위 영상에 출연한 줄무늬 다람쥐는 산에서 흔히 볼 수 있는 동물이고 이에 따라 다람쥐는 '산골짝의 다람쥐'라는 동요까지 있을 정도로 한국인에게 친숙하다\",\n",
       " ' 북아메리카와 동아시아 북동부에서 사는 설치류의 한 종류이다',\n",
       " ' 등에 줄무늬가 있는 것이 특징이다',\n",
       " ' 대부분의 종이 북아메리카에서 살며, 한국과 동아시아에서 사는 시베리아 다람쥐는 전 다람쥐 중에서 유일하게 북아메리카 이외의 지역에 사는 종이다',\n",
       " \" 어원은 'ᄃᆞᄅᆞᆷ+쥐'로, 'ᄃᆞᄅᆞᆷ'은 '달리다(走)'라는 뜻인 'ᄃᆞᆮ다'의 명사형이다\",\n",
       " \" 재빠르게 잘 달리는 쥐라는 뜻인데, 현대국어식으로 바꾸면 '달림쥐' 또는 '달리기쥐' 라고 할 수 있겠다\",\n",
       " ' 작은 동물이 대부분 그렇듯이 경계심이 많고 색 자체가 보호색을 띠고 있기 때문에 얼핏 지나치면 보기 힘들지만, 사실은 동네 뒷산에만 가도 서식할 정도로 널리고 널린 동물이다',\n",
       " ' 사람을 자주 봐서 겁을 내지 않는 다람쥐들은 오히려 등산객의 간식을 노리고 다가오기도 한다',\n",
       " ' 하지만 웬만하면 먹을 것을 주지 말자',\n",
       " ' 귀엽다고 자꾸 주게 되면 다람쥐가 사람이 주는 먹이에 익숙해져 다른 먹이를 구하지 않게 되고, 겨울을 버티는 능력이 떨어지게 된다',\n",
       " ' 먹는 모습이 귀엽더라도 가능하면 눈으로만 바라보자',\n",
       " \" '산골짝의 다람쥐 아기 다람쥐'라는 논란(?)의 동요로도 친숙하다\",\n",
       " \" 국립국어원 공식 홈페이지에 '산골짝의, 산골짝에, 산골짜기 다람쥐 어떤게 맞나요?'란 질문과 답변이 올라와 있을 정도\",\n",
       " '(',\n",
       " '',\n",
       " '',\n",
       " \") 답변에는 '산골짝의 다람쥐'가 맞다고 한다\",\n",
       " \" 하지만 인터넷에 이 동요를 검색해보면, '산골짜기 다람쥐' '산골짝에 다람쥐' 등 중구난방으로 나오는데, '산골짝의'보다는 '산골짝에'가 더 많다\",\n",
       " \" 그 이유는 '의'가 발음상 '에'처럼 들리는 데다가, 의미상으로도 크게 틀리지 않으니 그런 듯\",\n",
       " \" 하지만 2019년 작곡가인 박재훈 목사의 근황을 전하는 기사에서는 '산골짝의'라고 정확히 썼다\",\n",
       " ' 하지만 산골짝이라는 단어 자체가 산골짜기의 준말이기 때문에 동요의 제목과는 별도로 산골짜기 다람쥐라는 말 자체는 문법적으로 틀린말은 아니다',\n",
       " ' 주식은 견과류나 나무 열매이지만, 곤충과 도마뱀들을 잡아먹는 모습을 보인다',\n",
       " ' 생각보다 잔인해서 드물게 동족도 잡아먹기도 한다',\n",
       " ' 다람쥐는 엄연히 잡식성 동물로, 대부분의 동물들은 필요할 때만 먹이를 구하지만, 다람쥐는 먹이를 저장해 두는 것으로 유명하다',\n",
       " ' 특히 볼주머니는 탄력이 좋아, 땅콩 7~8개 정도는 쉽게 들어간다',\n",
       " ' 다람쥐 볼주머니의 탄력은 엄청나서, 만약 인간이 다람쥐의 볼주머니가 있다면 입 안에 대형견 한 마리 정도를 통째로 집어넣을 수 있을 정도로 늘어날 것이라 한다',\n",
       " ' 이렇게 저장한 먹이는 둥지로 나르거나 땅에 묻어 보관한다',\n",
       " ' 야생이 아닌 애완용 다람쥐도 먹이를 볼 주머니에 넣어 다른 곳에 저장하는 행동을 보이기도 한다',\n",
       " '']"
      ]
     },
     "execution_count": 25,
     "metadata": {},
     "output_type": "execute_result"
    }
   ],
   "source": [
    "# code here\n",
    "sentences = squirrel.split('.')\n",
    "sentences"
   ]
  },
  {
   "cell_type": "markdown",
   "metadata": {},
   "source": [
    "3) 2)에서 구한 sentences의 각 원소를 `!`로 연결하여 한 문장으로 합치시오."
   ]
  },
  {
   "cell_type": "code",
   "execution_count": 26,
   "metadata": {},
   "outputs": [
    {
     "data": {
      "text/plain": [
       "\"위 영상에 출연한 줄무늬 다람쥐는 산에서 흔히 볼 수 있는 동물이고 이에 따라 다람쥐는 '산골짝의 다람쥐'라는 동요까지 있을 정도로 한국인에게 친숙하다! 북아메리카와 동아시아 북동부에서 사는 설치류의 한 종류이다! 등에 줄무늬가 있는 것이 특징이다! 대부분의 종이 북아메리카에서 살며, 한국과 동아시아에서 사는 시베리아 다람쥐는 전 다람쥐 중에서 유일하게 북아메리카 이외의 지역에 사는 종이다! 어원은 'ᄃᆞᄅᆞᆷ+쥐'로, 'ᄃᆞᄅᆞᆷ'은 '달리다(走)'라는 뜻인 'ᄃᆞᆮ다'의 명사형이다! 재빠르게 잘 달리는 쥐라는 뜻인데, 현대국어식으로 바꾸면 '달림쥐' 또는 '달리기쥐' 라고 할 수 있겠다! 작은 동물이 대부분 그렇듯이 경계심이 많고 색 자체가 보호색을 띠고 있기 때문에 얼핏 지나치면 보기 힘들지만, 사실은 동네 뒷산에만 가도 서식할 정도로 널리고 널린 동물이다! 사람을 자주 봐서 겁을 내지 않는 다람쥐들은 오히려 등산객의 간식을 노리고 다가오기도 한다! 하지만 웬만하면 먹을 것을 주지 말자! 귀엽다고 자꾸 주게 되면 다람쥐가 사람이 주는 먹이에 익숙해져 다른 먹이를 구하지 않게 되고, 겨울을 버티는 능력이 떨어지게 된다! 먹는 모습이 귀엽더라도 가능하면 눈으로만 바라보자! '산골짝의 다람쥐 아기 다람쥐'라는 논란(?)의 동요로도 친숙하다! 국립국어원 공식 홈페이지에 '산골짝의, 산골짝에, 산골짜기 다람쥐 어떤게 맞나요?'란 질문과 답변이 올라와 있을 정도!(!!!) 답변에는 '산골짝의 다람쥐'가 맞다고 한다! 하지만 인터넷에 이 동요를 검색해보면, '산골짜기 다람쥐' '산골짝에 다람쥐' 등 중구난방으로 나오는데, '산골짝의'보다는 '산골짝에'가 더 많다! 그 이유는 '의'가 발음상 '에'처럼 들리는 데다가, 의미상으로도 크게 틀리지 않으니 그런 듯! 하지만 2019년 작곡가인 박재훈 목사의 근황을 전하는 기사에서는 '산골짝의'라고 정확히 썼다! 하지만 산골짝이라는 단어 자체가 산골짜기의 준말이기 때문에 동요의 제목과는 별도로 산골짜기 다람쥐라는 말 자체는 문법적으로 틀린말은 아니다! 주식은 견과류나 나무 열매이지만, 곤충과 도마뱀들을 잡아먹는 모습을 보인다! 생각보다 잔인해서 드물게 동족도 잡아먹기도 한다! 다람쥐는 엄연히 잡식성 동물로, 대부분의 동물들은 필요할 때만 먹이를 구하지만, 다람쥐는 먹이를 저장해 두는 것으로 유명하다! 특히 볼주머니는 탄력이 좋아, 땅콩 7~8개 정도는 쉽게 들어간다! 다람쥐 볼주머니의 탄력은 엄청나서, 만약 인간이 다람쥐의 볼주머니가 있다면 입 안에 대형견 한 마리 정도를 통째로 집어넣을 수 있을 정도로 늘어날 것이라 한다! 이렇게 저장한 먹이는 둥지로 나르거나 땅에 묻어 보관한다! 야생이 아닌 애완용 다람쥐도 먹이를 볼 주머니에 넣어 다른 곳에 저장하는 행동을 보이기도 한다!\""
      ]
     },
     "execution_count": 26,
     "metadata": {},
     "output_type": "execute_result"
    }
   ],
   "source": [
    "# code here\n",
    "'!'.join(sentences)"
   ]
  },
  {
   "cell_type": "markdown",
   "metadata": {},
   "source": [
    "4) `squirrel`에서 다람쥐를 호랑이로 바꾸시오."
   ]
  },
  {
   "cell_type": "code",
   "execution_count": 27,
   "metadata": {
    "id": "zPVwoRb3Otsm",
    "outputId": "8e4875d8-7a1e-42f7-b1d0-16cac6698988",
    "scrolled": false
   },
   "outputs": [
    {
     "data": {
      "text/plain": [
       "\"위 영상에 출연한 줄무늬 호랑이는 산에서 흔히 볼 수 있는 동물이고 이에 따라 호랑이는 '산골짝의 호랑이'라는 동요까지 있을 정도로 한국인에게 친숙하다. 북아메리카와 동아시아 북동부에서 사는 설치류의 한 종류이다. 등에 줄무늬가 있는 것이 특징이다. 대부분의 종이 북아메리카에서 살며, 한국과 동아시아에서 사는 시베리아 호랑이는 전 호랑이 중에서 유일하게 북아메리카 이외의 지역에 사는 종이다. 어원은 'ᄃᆞᄅᆞᆷ+쥐'로, 'ᄃᆞᄅᆞᆷ'은 '달리다(走)'라는 뜻인 'ᄃᆞᆮ다'의 명사형이다. 재빠르게 잘 달리는 쥐라는 뜻인데, 현대국어식으로 바꾸면 '달림쥐' 또는 '달리기쥐' 라고 할 수 있겠다. 작은 동물이 대부분 그렇듯이 경계심이 많고 색 자체가 보호색을 띠고 있기 때문에 얼핏 지나치면 보기 힘들지만, 사실은 동네 뒷산에만 가도 서식할 정도로 널리고 널린 동물이다. 사람을 자주 봐서 겁을 내지 않는 호랑이들은 오히려 등산객의 간식을 노리고 다가오기도 한다. 하지만 웬만하면 먹을 것을 주지 말자. 귀엽다고 자꾸 주게 되면 호랑이가 사람이 주는 먹이에 익숙해져 다른 먹이를 구하지 않게 되고, 겨울을 버티는 능력이 떨어지게 된다. 먹는 모습이 귀엽더라도 가능하면 눈으로만 바라보자. '산골짝의 호랑이 아기 호랑이'라는 논란(?)의 동요로도 친숙하다. 국립국어원 공식 홈페이지에 '산골짝의, 산골짝에, 산골짜기 호랑이 어떤게 맞나요?'란 질문과 답변이 올라와 있을 정도.(...) 답변에는 '산골짝의 호랑이'가 맞다고 한다. 하지만 인터넷에 이 동요를 검색해보면, '산골짜기 호랑이' '산골짝에 호랑이' 등 중구난방으로 나오는데, '산골짝의'보다는 '산골짝에'가 더 많다. 그 이유는 '의'가 발음상 '에'처럼 들리는 데다가, 의미상으로도 크게 틀리지 않으니 그런 듯. 하지만 2019년 작곡가인 박재훈 목사의 근황을 전하는 기사에서는 '산골짝의'라고 정확히 썼다. 하지만 산골짝이라는 단어 자체가 산골짜기의 준말이기 때문에 동요의 제목과는 별도로 산골짜기 호랑이라는 말 자체는 문법적으로 틀린말은 아니다. 주식은 견과류나 나무 열매이지만, 곤충과 도마뱀들을 잡아먹는 모습을 보인다. 생각보다 잔인해서 드물게 동족도 잡아먹기도 한다. 호랑이는 엄연히 잡식성 동물로, 대부분의 동물들은 필요할 때만 먹이를 구하지만, 호랑이는 먹이를 저장해 두는 것으로 유명하다. 특히 볼주머니는 탄력이 좋아, 땅콩 7~8개 정도는 쉽게 들어간다. 호랑이 볼주머니의 탄력은 엄청나서, 만약 인간이 호랑이의 볼주머니가 있다면 입 안에 대형견 한 마리 정도를 통째로 집어넣을 수 있을 정도로 늘어날 것이라 한다. 이렇게 저장한 먹이는 둥지로 나르거나 땅에 묻어 보관한다. 야생이 아닌 애완용 호랑이도 먹이를 볼 주머니에 넣어 다른 곳에 저장하는 행동을 보이기도 한다.\""
      ]
     },
     "execution_count": 27,
     "metadata": {},
     "output_type": "execute_result"
    }
   ],
   "source": [
    "# code here\n",
    "squirrel.replace('다람쥐', '호랑이')"
   ]
  },
  {
   "cell_type": "markdown",
   "metadata": {
    "id": "V2WaPmVdOtso"
   },
   "source": [
    "### 난이도 중 (2점)"
   ]
  },
  {
   "cell_type": "markdown",
   "metadata": {
    "id": "M05-WzpKOtso"
   },
   "source": [
    "**Q5.** 맨해튼 거리는 벡터 p, q 사이의 차원 실수를 직교 좌표계에 일정한 좌표축의 점 위에 투영한 선분 길이의 합을 말한다. 이를 공식으로 표현하면 다음과 같다.\n",
    "\n",
    "$$p = (p_1, p_2, ... , p_n), q = (q_1, q_2, ... , q_n)$$\n",
    "$$d_1(p,q) = \\Sigma_{i=1}^{n} {|p_i-q_i|}$$\n",
    "\n",
    "맨해튼 거리를 계산하는 함수를 정의하고, a와 b의 맨해튼 거리를 계산하시오.\n",
    "\n",
    "<font color='blue'>hint</font>: 내장함수 `abs()`\n",
    "\n",
    "```python\n",
    "a = [1,8,-2,4,5]\n",
    "b = [2,4,-10,7,-5]\n",
    "```"
   ]
  },
  {
   "cell_type": "code",
   "execution_count": 9,
   "metadata": {
    "id": "71zfrI7FOtsp"
   },
   "outputs": [],
   "source": [
    "# code here\n",
    "a = [1,8,-2,4,5]\n",
    "b = [2,4,-10,7,-5]\n",
    "\n",
    "def manhattan_dist(a, b):\n",
    "    distance = list(map(lambda x, y: abs(x-y), a,b))\n",
    "    return sum(distance)"
   ]
  },
  {
   "cell_type": "markdown",
   "metadata": {
    "id": "GLQZR1ArOtsq"
   },
   "source": [
    "**Q6.** 음이 아닌 정수n과 k를 인자로 받아 순열 nPk를 반환하는 함수를 만드시오.\n",
    "\n",
    "    예시1) 입력: 4,2    출력: 12\n",
    "    예시2) 입력: 5,3    출력: 60"
   ]
  },
  {
   "cell_type": "code",
   "execution_count": 29,
   "metadata": {
    "id": "WpWr7VByOtsq"
   },
   "outputs": [
    {
     "data": {
      "text/plain": [
       "12"
      ]
     },
     "execution_count": 29,
     "metadata": {},
     "output_type": "execute_result"
    }
   ],
   "source": [
    "# code here\n",
    "def abc(n,k) :\n",
    "    a = 1\n",
    "    for i in range(n-k+1,n+1):\n",
    "        a *= i\n",
    "    return a\n",
    "abc(4,2)"
   ]
  },
  {
   "cell_type": "markdown",
   "metadata": {
    "id": "258UJi8iOtsr"
   },
   "source": [
    "**Q7.** 영문 이름들로 이루어진 리스트를 넣으면, 영문 이니셜을 key, 영문 이름을 value로 가지는 딕셔너리를 만들어주는 함수를 이용하여 다음과 같이 출력하시오.\n",
    "\n",
    "```python\n",
    "입력예시 : ['Kim Cheol Su', 'Park Mi Young', 'Kwon Yu Jin']\n",
    "출력예시 : {'KCS' : 'Kim Cheol Su', 'PMY' : 'Park Mi Young',\n",
    "        'KYJ' : 'Kwon Yu Jin'}\n",
    "```"
   ]
  },
  {
   "cell_type": "code",
   "execution_count": 38,
   "metadata": {
    "id": "ewsbna3MOtsr"
   },
   "outputs": [
    {
     "data": {
      "text/plain": [
       "{'KCS': 'Kim Cheol Su', 'PMY': 'Park Mi Young', 'KYJ': 'Kwon Yu Jin'}"
      ]
     },
     "execution_count": 38,
     "metadata": {},
     "output_type": "execute_result"
    }
   ],
   "source": [
    "# code here\n",
    "def e_name(lst):\n",
    "    person = list(map(lambda x: x.split(), lst))\n",
    "    Initials = list(map(lambda p: ''.join(list(map(lambda y: y[0], p))), person))\n",
    "    return dict(zip(Initials, lst))\n",
    "    \n",
    "e_name(['Kim Cheol Su', 'Park Mi Young', 'Kwon Yu Jin'])"
   ]
  },
  {
   "cell_type": "markdown",
   "metadata": {
    "id": "kNIjsG45Otsr"
   },
   "source": [
    "### 난이도 상 (3점)"
   ]
  },
  {
   "cell_type": "markdown",
   "metadata": {
    "id": "ucAVc9qAOtss"
   },
   "source": [
    "**Q8.** 다음 숫자를 받아 각 자릿수의 합을 구하는 함수를 만드시오.(단 입력된 숫자가 음수일 경우 각 자리수의 합*(-1)을 출력한다.)\n",
    "\n",
    "    예시1) 입력: 1234   출력: 10\n",
    "    예시2) 입력: -101    출력: -2"
   ]
  },
  {
   "cell_type": "code",
   "execution_count": 48,
   "metadata": {
    "id": "5Fthob0lOtss"
   },
   "outputs": [
    {
     "data": {
      "text/plain": [
       "-12"
      ]
     },
     "execution_count": 48,
     "metadata": {},
     "output_type": "execute_result"
    }
   ],
   "source": [
    "# code here\n",
    "def num_sum(number):\n",
    "    num = str(number)\n",
    "    num = ','.join(num).split(',')\n",
    "    if num[0] == '-':\n",
    "        num.remove(num[0])\n",
    "        num = map(int, num)\n",
    "        return sum(num) * (-1)\n",
    "    else : \n",
    "        num = map(int, num)\n",
    "        return sum(num)\n",
    "num_sum(-12414)"
   ]
  },
  {
   "cell_type": "markdown",
   "metadata": {
    "id": "JOZxUv1bOtst"
   },
   "source": [
    "**Q9.** 수많은 학생 중, 단 한 명을 제외하고는 모두 시험을 통과하였다. 시험을 본 학생들의 이름이 담긴 배열 student 와 시험을 통과한 학생들의 이름이 담긴 배열 success 가 주어질 때, 통과하지 못한 학생의 이름을 return 하도록 exam 함수를 작성하시오. 단, 학생 중에는 동명이인이 있을 수 있다.\n",
    "    \n",
    "    입력예시1) student : ['a', 'b', 'c'], success : ['a', 'c']\n",
    "    출력예시1) 'b'\n",
    "    입력예시2) student : ['a', 'b', 'c', 'd', 'e'], success : ['e', 'a', 'c', 'b']\n",
    "    출력예시2) 'd'\n",
    "    입력예시3) student : ['a', 'b', 'a', 'c'], success : ['c', 'a', 'b']\n",
    "    출력예시3) 'a'"
   ]
  },
  {
   "cell_type": "code",
   "execution_count": 49,
   "metadata": {
    "id": "Twf6wnnuOtst"
   },
   "outputs": [
    {
     "data": {
      "text/plain": [
       "'민정'"
      ]
     },
     "execution_count": 49,
     "metadata": {},
     "output_type": "execute_result"
    }
   ],
   "source": [
    "# code here\n",
    "def abc(stu, suc):\n",
    "    stu = sorted(stu)\n",
    "    suc = sorted(suc)\n",
    "    \n",
    "    for i in range(len(suc)):\n",
    "        if stu[i] != suc[i]:\n",
    "            return stu[i]\n",
    "    return stu[len(stu)-1]\n",
    "abc(['민정', '정하', '민정', '현준'],['정하', '현준', '민정'])"
   ]
  },
  {
   "cell_type": "markdown",
   "metadata": {
    "id": "dCyl2mI1Otsu"
   },
   "source": [
    "**Q10.** 다음은 정렬(sort)하는 방법 중 하나인, bubble sort에 대한 설명이다. 이를 참조하여 리스트를 입력했을때 버블정렬을 해주는 함수를 만드시오.\n",
    "\n",
    "```\n",
    "1. 정렬할 list를 입력받는다. [2, 1, 3, 2, 5]\n",
    "2. 맨 앞의 두 원소를 서로 비교한다. (2, 1)\n",
    "3-1. 만약 앞의 원소가 뒤의 원소보다 크다면, 두 원소의 위치를 서로 바꾼다. (2, 1) -> (1, 2)\n",
    "3-2. 만약 앞의 원소보다 뒤의 원소가 크다면, 그대로 둔다.\n",
    "4. 한 칸 오른쪽으로 이동한다. (2, 3)\n",
    "5. 3의 과정을 반복한다.\n",
    "6. 정렬이 완료될 때까지 3, 4를 반복 수행한다.\n",
    "```\n",
    "- 이해가 잘 되지 않는다면, (https://www.youtube.com/watch?v=xli_FI7CuzA) 를 참조해보자."
   ]
  },
  {
   "cell_type": "code",
   "execution_count": 52,
   "metadata": {
    "id": "vhhrPQ0cOtsu"
   },
   "outputs": [
    {
     "data": {
      "text/plain": [
       "[1, 2, 2, 3, 5]"
      ]
     },
     "execution_count": 52,
     "metadata": {},
     "output_type": "execute_result"
    }
   ],
   "source": [
    "# code here\n",
    "def bubble_sort(lst):\n",
    "    for i in range(len(lst)-1):\n",
    "        for j in range(len(lst)-1-i):\n",
    "            if lst[j] > lst[j+1]:\n",
    "                lst[j], lst[j+1] = lst[j+1], lst[j]\n",
    "    return lst\n",
    "\n",
    "bubble_sort([2, 1, 3, 2, 5])"
   ]
  },
  {
   "cell_type": "markdown",
   "metadata": {},
   "source": [
    "**Q11.** 배열 array의 i번째 숫자부터 j번째 숫자까지 자르고 정렬했을 때, k번째에 있는 수를 구하려한다.\n",
    "예를 들어 array가 [1, 5, 2, 6, 3, 7, 4], i = 2, j = 5, k = 3이라면\n",
    "1. array의 2번째부터 5번째까지 자르면 [5, 2, 6. 3]이다.\n",
    "2. 1에서 나온 배열을 정렬하면 [2, 3, 5, 6]이다.\n",
    "3. 2에서 나온 배열의 3번째 숫자는 5이다.\n",
    "\n",
    "배열 array, [i, j, k]를 원소로 가진 2차원 배열 commands가 매개변수로 주어질 때, commands의 모든 원소에 대해 앞서 설명한 연산을 적용했을 때 나온 결과를 배열에 담아 return하도록 solution 함수를 작성하시오.\n",
    "\n",
    "#### 예시\n",
    "|array|commands|return|\n",
    "|-|-|-|\n",
    "|[1,5,2,6,3,7,4]|[[2,5,3], [4,4,1], [1,7,3]]|[5,6,3]"
   ]
  },
  {
   "cell_type": "code",
   "execution_count": 53,
   "metadata": {},
   "outputs": [
    {
     "data": {
      "text/plain": [
       "[5, 6, 3]"
      ]
     },
     "execution_count": 53,
     "metadata": {},
     "output_type": "execute_result"
    }
   ],
   "source": [
    "# code here\n",
    "array = [1,5,2,6,3,7,4]\n",
    "commands = [[2,5,3], [4,4,1], [1,7,3]]\n",
    "\n",
    "def solution(array, commands):\n",
    "    return list(map(lambda x:sorted(array[x[0]-1:x[1]])[x[2]-1], commands))\n",
    "\n",
    "solution(array, commands)"
   ]
  }
 ],
 "metadata": {
  "colab": {
   "name": "겨울방학 파이썬 스터디 3차시 과제.ipynb",
   "provenance": []
  },
  "kernelspec": {
   "display_name": "Python 3",
   "language": "python",
   "name": "python3"
  },
  "language_info": {
   "codemirror_mode": {
    "name": "ipython",
    "version": 3
   },
   "file_extension": ".py",
   "mimetype": "text/x-python",
   "name": "python",
   "nbconvert_exporter": "python",
   "pygments_lexer": "ipython3",
   "version": "3.8.5"
  }
 },
 "nbformat": 4,
 "nbformat_minor": 1
}
