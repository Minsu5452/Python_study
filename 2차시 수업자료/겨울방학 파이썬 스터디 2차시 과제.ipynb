{
 "cells": [
  {
   "cell_type": "markdown",
   "metadata": {},
   "source": [
    "# 필독!"
   ]
  },
  {
   "cell_type": "markdown",
   "metadata": {},
   "source": [
    "<font color = \"red\">\n",
    "    문제 풀기 전 제출 방식을 꼭 확인해주세요 !!\n",
    "    \n",
    "    - 1) 파일 형식을 ipynb로 해주세요!\n",
    "    - 2) 파일명은 '겨울방학 파이썬 스터디 n차시 과제_본인이름'을 지켜주세요\n",
    "    - 3) 제출은 각 해당된 멘토에게 해주시면 됩니다.\n",
    "---------------------------------------------------------------------------------------------------------------------------------"
   ]
  },
  {
   "cell_type": "markdown",
   "metadata": {},
   "source": [
    "### 난이도 하 (1점)\n",
    "**Q1.** 아래의 리스트에서 '여름'이 몇번 나오는지 출력하시오. ( 반복문 사용, count 사용 X )\n",
    "```python\n",
    "seasons = ['여름','겨울','여름','가을','겨울','봄','여름']\n",
    "```"
   ]
  },
  {
   "cell_type": "code",
   "execution_count": 18,
   "metadata": {},
   "outputs": [
    {
     "name": "stdout",
     "output_type": "stream",
     "text": [
      "3 번\n"
     ]
    }
   ],
   "source": [
    "### 코드를 입력하세요\n",
    "seasons = ['여름','겨울','여름','가을','겨울','봄','여름']\n",
    "s = 0\n",
    "for i in seasons:\n",
    "    if i == '여름':\n",
    "        s += 1\n",
    "print(s,'번')"
   ]
  },
  {
   "cell_type": "markdown",
   "metadata": {},
   "source": [
    "**Q2.** 다음과 같이 0과 1로 이루어진 리스트가 있다.\n",
    "```python\n",
    "zero_one_list = [0,0,0,0,1,0,1,0]\n",
    "```\n",
    "반복문, 조건문을 활용해 1은 리스트의 몇번째 원소인지 출력하시오. 예를 들어, 위와 같은 zero_one_list에서는 5번째, 7번째 원소입니다."
   ]
  },
  {
   "cell_type": "code",
   "execution_count": 32,
   "metadata": {},
   "outputs": [
    {
     "name": "stdout",
     "output_type": "stream",
     "text": [
      "5 번째 원소입니다\n",
      "7 번째 원소입니다\n"
     ]
    }
   ],
   "source": [
    "### 코드를 입력하세요\n",
    "zero_one_list = [0,0,0,0,1,0,1,0]\n",
    "for i in range(len(zero_one_list)):\n",
    "    if zero_one_list[i] == 1:\n",
    "        print(i+1,\"번째 원소입니다\")"
   ]
  },
  {
   "cell_type": "markdown",
   "metadata": {},
   "source": [
    "**Q3.** 세개의 정수를 인자로 받아 세개의 정수가 삼각형 세 변의 길이라고 할 때 삼각형이 이루어 질 수 없다면 0, 이루어질 수 있다면 둔각삼각형, 예각삼각형, 직각삼각형 중 하나를 출력하는 함수를 작성하시오. (단 내장함수 sorted 또는 list의  sort method 사용 불가)<p>\n",
    "예시1)  입력: 4, 5, 3     출력: 직각삼각형<p>\n",
    "예시2)  입력: 12, 3, 7   출력: 0<p>\n",
    "예시3)  입력: 12, 5, 14 출력: 둔각삼각형<p>"
   ]
  },
  {
   "cell_type": "code",
   "execution_count": 45,
   "metadata": {},
   "outputs": [
    {
     "name": "stdout",
     "output_type": "stream",
     "text": [
      "숫자를 입력하세요 :12\n",
      "숫자를 입력하세요 :13\n",
      "숫자를 입력하세요 :60\n",
      "둔각삼각형\n"
     ]
    }
   ],
   "source": [
    "### 코드를 입력하세요\n",
    "a,b,c = int((input(\"숫자를 입력하세요 :\"))), int((input(\"숫자를 입력하세요 :\"))), int((input(\"숫자를 입력하세요 :\")))\n",
    "t_lst = [a,b,c]\n",
    "t_lst.sort()\n",
    "if a + b >= c:\n",
    "    print(0)\n",
    "elif c**2 < a**2 + b**2:\n",
    "    print('예각삼각형')\n",
    "elif c**2 > a**2 + b**2:\n",
    "    print('둔각삼각형')\n",
    "else :\n",
    "    print('직각삼각형')"
   ]
  },
  {
   "cell_type": "markdown",
   "metadata": {},
   "source": [
    "**Q4.** 준회는 200만원을 은행에 년 3.7%의 복리이자를 주는 통장에 돈을 예금했다. 준회는 몇년 후에 원리금이 초기 원금의 10배가 넘는지를 구하시오. "
   ]
  },
  {
   "cell_type": "code",
   "execution_count": 49,
   "metadata": {},
   "outputs": [
    {
     "name": "stdout",
     "output_type": "stream",
     "text": [
      "64 년후\n"
     ]
    }
   ],
   "source": [
    "### 코드를 입력하세요\n",
    "n = 0\n",
    "while 200*((1.037)**n) < 2000:\n",
    "    n += 1\n",
    "print(n,'년후')"
   ]
  },
  {
   "cell_type": "markdown",
   "metadata": {},
   "source": [
    "### 난이도 중 (2점)"
   ]
  },
  {
   "cell_type": "markdown",
   "metadata": {},
   "source": [
    "**Q5.** 민성이는 알람을 듣고 바로 일어나지 못해 항상 45분씩 일찍 알람을 설정해둔다. 민성이가 일어나는 시간 H시 M분(0 ≤ H ≤ 23, 0 ≤ M ≤ 59)을 입력받아 알람을 설정할 시간을 구하여라. (단, 하루의 시작은 0:0이고 끝은 23:59이다.)\n",
    "\n",
    "    입력예시1) H:10, M:10\n",
    "    출력예시1) 9시 25분\n",
    "\n",
    "    입력예시2) H:0, M:30\n",
    "    출력예시2) 23시 45분\n",
    "\n",
    "    입력예시3) H:23, M:40\n",
    "    출력예시3) 22시 55분"
   ]
  },
  {
   "cell_type": "code",
   "execution_count": 61,
   "metadata": {},
   "outputs": [
    {
     "name": "stdout",
     "output_type": "stream",
     "text": [
      "시간을 입력하세요: 0\n",
      "분을 입력하세요: 30\n",
      "23 시 45 분\n"
     ]
    }
   ],
   "source": [
    "### 코드를 입력하세요\n",
    "H,M = int(input('시간을 입력하세요: ')), int(input('분을 입력하세요: '))\n",
    "if M >= 45:\n",
    "    print(H,'시',M-45,'분')\n",
    "elif H == 0:\n",
    "    print(23,'시',M+15,'분')\n",
    "else :\n",
    "    print(H-1,'시',M+15,'분')"
   ]
  },
  {
   "cell_type": "markdown",
   "metadata": {},
   "source": [
    "**Q6.** 주어진 리스트와 반복문을 사용하여 새로운 멘토-점수 Dictionary를 생성하세요.\n",
    "\n",
    "| key      | value |\n",
    "| ----------- | ----------- |\n",
    "| 고민성 | [ 72, 80, 97, 92] |\n",
    "| 구준회 | [ 93, 95, 100, 85] |\n",
    "| 권유진 | [ 75, 88, 79, 86] |\n",
    "| 이태범 | [ 77, 88, 69, 56] |"
   ]
  },
  {
   "cell_type": "code",
   "execution_count": 62,
   "metadata": {},
   "outputs": [],
   "source": [
    "###코드에 손대지 말고 실행해 주세요\n",
    "\n",
    "mento = ['고민성','구준회','권유진','이태범']\n",
    "score = [[72,80,97,92], [93,95,100,85], [75,88,79,86], [77,88,69,56]]"
   ]
  },
  {
   "cell_type": "code",
   "execution_count": 65,
   "metadata": {},
   "outputs": [
    {
     "data": {
      "text/plain": [
       "{'고민성': [72, 80, 97, 92],\n",
       " '구준회': [93, 95, 100, 85],\n",
       " '권유진': [75, 88, 79, 86],\n",
       " '이태범': [77, 88, 69, 56]}"
      ]
     },
     "execution_count": 65,
     "metadata": {},
     "output_type": "execute_result"
    }
   ],
   "source": [
    "### 코드를 입력하세요\n",
    "dic = {}\n",
    "for i in range(len(mento)):\n",
    "    dic[mento[i]] = score[i]\n",
    "dic"
   ]
  },
  {
   "cell_type": "markdown",
   "metadata": {},
   "source": [
    "**Q7.** 다음 조건으로 주어진 리스트를 나누시오.\n",
    "\n",
    "    원소가 문자일때:\n",
    "        str_list에 추가\n",
    "    원소가 숫자일때:\n",
    "        num_list에 추가"
   ]
  },
  {
   "cell_type": "code",
   "execution_count": 66,
   "metadata": {},
   "outputs": [],
   "source": [
    "###코드에 손대지 말고 실행해 주세요\n",
    "unclean_list = [95 , 4, -7, '국민대', '빅데이터경영통계','mento',9500]"
   ]
  },
  {
   "cell_type": "code",
   "execution_count": 75,
   "metadata": {},
   "outputs": [
    {
     "data": {
      "text/plain": [
       "(['국민대', '빅데이터경영통계', 'mento'], [95, 4, -7, 9500])"
      ]
     },
     "execution_count": 75,
     "metadata": {},
     "output_type": "execute_result"
    }
   ],
   "source": [
    "### 코드를 입력하세요\n",
    "str_list = []\n",
    "num_list = []\n",
    "for i in range(len(unclean_list)):\n",
    "    if type(unclean_list[i]) == str:\n",
    "        str_list.append(unclean_list[i])\n",
    "    else :\n",
    "        num_list.append(unclean_list[i])\n",
    "str_list, num_list"
   ]
  },
  {
   "cell_type": "markdown",
   "metadata": {},
   "source": [
    "**Q8.** 주어진 성적 리스트의 분산을 구하시오.\n",
    "```python\n",
    "score_list = [100, 85, 80, 80, 90, 95, 75, 55, 60, 70]\n",
    "```"
   ]
  },
  {
   "cell_type": "code",
   "execution_count": 86,
   "metadata": {},
   "outputs": [
    {
     "data": {
      "text/plain": [
       "189.0"
      ]
     },
     "execution_count": 86,
     "metadata": {},
     "output_type": "execute_result"
    }
   ],
   "source": [
    "### 코드를 입력하세요\n",
    "score_list = [100, 85, 80, 80, 90, 95, 75, 55, 60, 70]\n",
    "score_mean = sum(score_list) / len(score_list)\n",
    "var = []\n",
    "for i in score_list :\n",
    "    var.append((i-score_mean)**2)\n",
    "sum(var) / len(var)"
   ]
  },
  {
   "cell_type": "markdown",
   "metadata": {},
   "source": [
    "**Q9.** 다음과 같은 모양을 반복문을 사용해서 만드시오.\n",
    "\n",
    "                     *\n",
    "                    ***\n",
    "                   *****\n",
    "                  *******\n",
    "                 *********\n",
    "                ***********\n",
    "               *************\n",
    "              ***************\n",
    "             *****************\n",
    "            *******************"
   ]
  },
  {
   "cell_type": "code",
   "execution_count": 105,
   "metadata": {},
   "outputs": [
    {
     "name": "stdout",
     "output_type": "stream",
     "text": [
      "         *         \n",
      "        ***        \n",
      "       *****       \n",
      "      *******      \n",
      "     *********     \n",
      "    ***********    \n",
      "   *************   \n",
      "  ***************  \n",
      " ***************** \n",
      "*******************\n"
     ]
    }
   ],
   "source": [
    "### 코드를 입력하세요\n",
    "for i in range(1,11):\n",
    "    print(((2*i-1)*'*').center(19))"
   ]
  },
  {
   "cell_type": "markdown",
   "metadata": {},
   "source": [
    "### 난이도 상 (3점)"
   ]
  },
  {
   "cell_type": "markdown",
   "metadata": {},
   "source": [
    "**Q10.** list comprehension을 이용하여 구구단의 모든 원소를 갖는 리스트를 만드시오. \n",
    "    <p>출력예시) [2,4,6,8,10,12,14,16,18,3,6,9,12,15,18, 21, ... , 9, 18,27,36,45,54,63,72,81]"
   ]
  },
  {
   "cell_type": "code",
   "execution_count": 125,
   "metadata": {},
   "outputs": [
    {
     "data": {
      "text/plain": [
       "[2,\n",
       " 3,\n",
       " 4,\n",
       " 5,\n",
       " 6,\n",
       " 7,\n",
       " 8,\n",
       " 9,\n",
       " 4,\n",
       " 6,\n",
       " 8,\n",
       " 10,\n",
       " 12,\n",
       " 14,\n",
       " 16,\n",
       " 18,\n",
       " 6,\n",
       " 9,\n",
       " 12,\n",
       " 15,\n",
       " 18,\n",
       " 21,\n",
       " 24,\n",
       " 27,\n",
       " 8,\n",
       " 12,\n",
       " 16,\n",
       " 20,\n",
       " 24,\n",
       " 28,\n",
       " 32,\n",
       " 36,\n",
       " 10,\n",
       " 15,\n",
       " 20,\n",
       " 25,\n",
       " 30,\n",
       " 35,\n",
       " 40,\n",
       " 45,\n",
       " 12,\n",
       " 18,\n",
       " 24,\n",
       " 30,\n",
       " 36,\n",
       " 42,\n",
       " 48,\n",
       " 54,\n",
       " 14,\n",
       " 21,\n",
       " 28,\n",
       " 35,\n",
       " 42,\n",
       " 49,\n",
       " 56,\n",
       " 63,\n",
       " 16,\n",
       " 24,\n",
       " 32,\n",
       " 40,\n",
       " 48,\n",
       " 56,\n",
       " 64,\n",
       " 72,\n",
       " 18,\n",
       " 27,\n",
       " 36,\n",
       " 45,\n",
       " 54,\n",
       " 63,\n",
       " 72,\n",
       " 81]"
      ]
     },
     "execution_count": 125,
     "metadata": {},
     "output_type": "execute_result"
    }
   ],
   "source": [
    "### 코드를 입력하세요\n",
    "a = [i*j for i in range(1,10) for j in range(2,10)]\n",
    "a"
   ]
  },
  {
   "cell_type": "markdown",
   "metadata": {},
   "source": [
    "**Q11.** 정수를 입력받아 서로 다른 자릿수에 있는 두 개의 수를 뽑아 더해서 만들 수 있는 모든 수를 배열에 오름차순으로 담아 출력하시오.\n",
    "\n",
    "    입력예시1) 21341\n",
    "    출력예시1) [2,3,4,5,6,7]\n",
    "\n",
    "    입력예시2) 5027\n",
    "    출력예시2) [2,5,7,9,12]"
   ]
  },
  {
   "cell_type": "code",
   "execution_count": 3,
   "metadata": {},
   "outputs": [
    {
     "name": "stdout",
     "output_type": "stream",
     "text": [
      "12312\n",
      "[2, 3, 4, 5]\n"
     ]
    }
   ],
   "source": [
    "### 코드를 입력하세요\n",
    "a = input()\n",
    "numbers = [int(num) for num in a]\n",
    "answers = []\n",
    "\n",
    "for i in range(len(numbers)):\n",
    "    for j in range(i+1, len(numbers)):\n",
    "        out = numbers[i] + numbers[j]\n",
    "        if out not in answers :\n",
    "            answers.append(out)\n",
    "            answers.sort()\n",
    "print(answers)"
   ]
  },
  {
   "cell_type": "markdown",
   "metadata": {},
   "source": [
    "**Q12.** 다음 주어진 Dictionary를 아래와 같은 형태로 정렬하세요.\n",
    "```python\n",
    "[(96, '구준회'), (92, '고민성'), (88, '이태범'), (83, '권유진')]\n",
    "```"
   ]
  },
  {
   "cell_type": "code",
   "execution_count": 9,
   "metadata": {},
   "outputs": [
    {
     "data": {
      "text/plain": [
       "{'이태범': 88, '고민성': 92, '권유진': 83, '구준회': 96}"
      ]
     },
     "execution_count": 9,
     "metadata": {},
     "output_type": "execute_result"
    }
   ],
   "source": [
    "### 코드를 건드리지 마시고 실행해주세요.\n",
    "Dict = {'이태범':88,'고민성':92,'권유진':83,'구준회':96};Dict"
   ]
  },
  {
   "cell_type": "code",
   "execution_count": 21,
   "metadata": {},
   "outputs": [
    {
     "data": {
      "text/plain": [
       "[(96, '구준회'), (92, '고민성'), (88, '이태범'), (83, '권유진')]"
      ]
     },
     "execution_count": 21,
     "metadata": {},
     "output_type": "execute_result"
    }
   ],
   "source": [
    "### 코드를 입력하세요\n",
    "Dict.items()\n",
    "sorted([(v,k) for k, v in Dict.items()], reverse = True)"
   ]
  },
  {
   "cell_type": "markdown",
   "metadata": {},
   "source": [
    "**Q13.** 다음과 같은 모양을 반복문을 사용해서 만드시오.\n",
    "    \n",
    "    *         *\n",
    "     *       * \n",
    "      *     *  \n",
    "       *   *   \n",
    "        * *    \n",
    "         *     \n",
    "        * *    \n",
    "       *   *   \n",
    "      *     *  \n",
    "     *       * \n",
    "    *         * "
   ]
  },
  {
   "cell_type": "code",
   "execution_count": 22,
   "metadata": {},
   "outputs": [
    {
     "name": "stdout",
     "output_type": "stream",
     "text": [
      "*         *\n",
      " *       *\n",
      "  *     *\n",
      "   *   *\n",
      "    * *\n",
      "     *\n",
      "    * *\n",
      "   *   *\n",
      "  *     *\n",
      " *       *\n",
      "*         *\n"
     ]
    }
   ],
   "source": [
    "### 코드를 입력하세요\n",
    "for i in range(11):\n",
    "    if i == 5:\n",
    "        print(' '*i + '*')\n",
    "    elif i < 5:\n",
    "        print(' '*i + '*' + ' '*(-2*i + 9) + '*')\n",
    "    else:\n",
    "        print(' '*(-i+10) + '*' + ' '*(2*i - 11) + '*')"
   ]
  }
 ],
 "metadata": {
  "kernelspec": {
   "display_name": "Python 3",
   "language": "python",
   "name": "python3"
  },
  "language_info": {
   "codemirror_mode": {
    "name": "ipython",
    "version": 3
   },
   "file_extension": ".py",
   "mimetype": "text/x-python",
   "name": "python",
   "nbconvert_exporter": "python",
   "pygments_lexer": "ipython3",
   "version": "3.8.5"
  }
 },
 "nbformat": 4,
 "nbformat_minor": 4
}
