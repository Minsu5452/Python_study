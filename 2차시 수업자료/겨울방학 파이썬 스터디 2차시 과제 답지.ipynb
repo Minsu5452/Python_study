{
 "cells": [
  {
   "cell_type": "markdown",
   "metadata": {
    "id": "b5UvdT-2Hp64"
   },
   "source": [
    "# 필독!"
   ]
  },
  {
   "cell_type": "markdown",
   "metadata": {
    "id": "jnx4laZJHp66"
   },
   "source": [
    "<font color = \"red\">\n",
    "    문제 풀기 전 제출 방식을 꼭 확인해주세요 !!\n",
    "    \n",
    "    - 1) 파일 형식을 ipynb로 해주세요!\n",
    "    - 2) 파일명은 '겨울방학 파이썬 스터디 n차시 과제_본인이름'을 지켜주세요\n",
    "    - 3) 제출은 각 해당된 멘토에게 해주시면 됩니다.\n",
    "---------------------------------------------------------------------------------------------------------------------------------"
   ]
  },
  {
   "cell_type": "markdown",
   "metadata": {
    "id": "SjN6--OmHp66"
   },
   "source": [
    "### 난이도 하 (1점)\n",
    "**Q1.** 아래의 리스트에서 '여름'이 몇번 나오는지 출력하시오. ( 반복문 사용, count 사용 X )\n",
    "```python\n",
    "seasons = ['여름','겨울','여름','가을','겨울','봄','여름']\n",
    "```"
   ]
  },
  {
   "cell_type": "code",
   "execution_count": null,
   "metadata": {
    "id": "CYYSuAhiHp67",
    "outputId": "cac4467c-e468-46e1-8f62-3e83ebcd1fb4"
   },
   "outputs": [
    {
     "data": {
      "text/plain": [
       "3"
      ]
     },
     "execution_count": 1,
     "metadata": {},
     "output_type": "execute_result"
    }
   ],
   "source": [
    "### 코드를 입력하세요\n",
    "seasons = ['여름','겨울','여름','가을','겨울','봄','여름']\n",
    "s=0\n",
    "\n",
    "for i in seasons :\n",
    "    if i == '여름' :\n",
    "        s += 1\n",
    "s "
   ]
  },
  {
   "cell_type": "markdown",
   "metadata": {
    "id": "eAjD3HTdHp68"
   },
   "source": [
    "**Q2.** 다음과 같이 0과 1로 이루어진 리스트가 있다.\n",
    "```python\n",
    "zero_one_list = [0,0,0,0,1,0,1,0]\n",
    "```\n",
    "반복문, 조건문을 활용해 1은 리스트의 몇번째 원소인지 출력하시오. 예를 들어, 위와 같은 zero_one_list에서는 5번째, 7번째 원소입니다."
   ]
  },
  {
   "cell_type": "code",
   "execution_count": null,
   "metadata": {
    "id": "Uj9_q6jYHp68",
    "outputId": "3298b687-01ef-4bd6-f557-f7561e543b49"
   },
   "outputs": [
    {
     "name": "stdout",
     "output_type": "stream",
     "text": [
      "5 번째 원소입니다.\n",
      "7 번째 원소입니다.\n"
     ]
    }
   ],
   "source": [
    "### 코드를 입력하세요\n",
    "zero_one_list = [0,0,0,0,1,0,1,0]\n",
    "\n",
    "for i in range(len(zero_one_list)) :    \n",
    "    if zero_one_list[i] == 1 : \n",
    "        print(i+1,'번째 원소입니다.')"
   ]
  },
  {
   "cell_type": "markdown",
   "metadata": {
    "id": "3NCekDPcHp69"
   },
   "source": [
    "**Q3.** 세개의 정수를 인자로 받아 세개의 정수가 삼각형 세 변의 길이라고 할 때 삼각형이 이루어 질 수 없다면 0, 이루어질 수 있다면 둔각삼각형, 예각삼각형, 직각삼각형 중 하나를 출력하는 함수를 작성하시오. (단 내장함수 sorted 또는 list의  sort method 사용 불가)<p>\n",
    "예시1)  입력: 4, 5, 3     출력: 직각삼각형<p>\n",
    "예시2)  입력: 12, 3, 7   출력: 0<p>\n",
    "예시3)  입력: 12, 5, 14 출력: 둔각삼각형<p>"
   ]
  },
  {
   "cell_type": "code",
   "execution_count": null,
   "metadata": {
    "id": "aZhsFYZSHp6-",
    "outputId": "ac206a3d-5c2d-405d-c0f7-6c68801127b3"
   },
   "outputs": [
    {
     "name": "stdout",
     "output_type": "stream",
     "text": [
      "숫자를 입력하시오 : 8\n",
      "숫자를 입력하시오 : 8\n",
      "숫자를 입력하시오 : 12\n",
      "둔각삼각형\n"
     ]
    }
   ],
   "source": [
    "### 코드를 입력하세요\n",
    "first = int(input('숫자를 입력하시오 : '))\n",
    "second = int(input('숫자를 입력하시오 : '))\n",
    "third = int(input('숫자를 입력하시오 : '))\n",
    "lst = [first, second, third]\n",
    "\n",
    "if sum(lst) > 2*max(lst):\n",
    "    long = max(lst)\n",
    "    lst.remove(max(lst))\n",
    "    if lst[0]**2 + lst[1]**2 > long**2:\n",
    "        print('예각삼각형')\n",
    "    elif lst[0]**2 + lst[1]**2 == long**2:\n",
    "        print('직각삼각형')\n",
    "    else:\n",
    "        print('둔각삼각형')\n",
    "else:\n",
    "    print(0)"
   ]
  },
  {
   "cell_type": "markdown",
   "metadata": {
    "id": "6SwCJoRJHp6-"
   },
   "source": [
    "**Q4.** 준회는 200만원을 은행에 년 3.7%의 복리이자를 주는 통장에 돈을 예금했다. 준회는 몇년 후에 원리금이 초기 원금의 10배가 넘는지를 구하시오. "
   ]
  },
  {
   "cell_type": "code",
   "execution_count": null,
   "metadata": {
    "id": "BfrXAaGmHp6_",
    "outputId": "4b58c205-3ec4-4f75-a8a8-743431207c40"
   },
   "outputs": [
    {
     "name": "stdout",
     "output_type": "stream",
     "text": [
      "64\n"
     ]
    }
   ],
   "source": [
    "### 코드를 입력하세요\n",
    "money = 2000000\n",
    "interest = 0.037\n",
    "year = 0\n",
    "\n",
    "while True:\n",
    "    if money<20000000:\n",
    "        money=money+money*interest\n",
    "        year+=1\n",
    "    else:\n",
    "        break\n",
    "    \n",
    "print(year)"
   ]
  },
  {
   "cell_type": "markdown",
   "metadata": {
    "id": "4JiMK50sHp6_"
   },
   "source": [
    "### 난이도 중 (2점)"
   ]
  },
  {
   "cell_type": "markdown",
   "metadata": {
    "id": "17fgxdBTHp6_"
   },
   "source": [
    "**Q5.** 민성이는 알람을 듣고 바로 일어나지 못해 항상 45분씩 일찍 알람을 설정해둔다. 민성이가 일어나는 시간 H시 M분(0 ≤ H ≤ 23, 0 ≤ M ≤ 59)을 입력받아 알람을 설정할 시간을 구하여라. (단, 하루의 시작은 0:0이고 끝은 23:59이다.)\n",
    "\n",
    "    입력예시1) H:10, M:10\n",
    "    출력예시1) 9시 25분\n",
    "\n",
    "    입력예시2) H:0, M:30\n",
    "    출력예시2) 23시 45분\n",
    "\n",
    "    입력예시3) H:23, M:40\n",
    "    출력예시3) 22시 55분"
   ]
  },
  {
   "cell_type": "code",
   "execution_count": null,
   "metadata": {
    "id": "C7ea--VEHp7A",
    "outputId": "1789247c-10c6-45ea-e060-a53e0bff33bc"
   },
   "outputs": [
    {
     "name": "stdout",
     "output_type": "stream",
     "text": [
      "H:23\n",
      "M:10\n",
      "22시 25분\n"
     ]
    }
   ],
   "source": [
    "### 코드를 입력하세요\n",
    "hour = int(input('H:'))\n",
    "minute = int(input('M:'))\n",
    "\n",
    "minute -= 45\n",
    "if minute < 0:\n",
    "    minute += 60\n",
    "    hour -= 1\n",
    "    if hour < 0:\n",
    "        hour = 23\n",
    "\n",
    "print(str(hour) + '시 ' + str(minute) + '분')"
   ]
  },
  {
   "cell_type": "markdown",
   "metadata": {
    "id": "mh_VSkXZHp7A"
   },
   "source": [
    "**Q6.** 주어진 리스트와 반복문을 사용하여 새로운 멘토-점수 Dictionary를 생성하세요.\n",
    "\n",
    "| key      | value |\n",
    "| ----------- | ----------- |\n",
    "| 고민성 | [ 72, 80, 97, 92] |\n",
    "| 구준회 | [ 93, 95, 100, 85] |\n",
    "| 권유진 | [ 75, 88, 79, 86] |\n",
    "| 이태범 | [ 77, 88, 69, 56] |"
   ]
  },
  {
   "cell_type": "code",
   "execution_count": null,
   "metadata": {
    "id": "uumnHwGYHp7A"
   },
   "outputs": [],
   "source": [
    "###코드에 손대지 말고 실행해 주세요\n",
    "\n",
    "mento = ['고민성','구준회','권유진','이태범']\n",
    "score = [[72,80,97,92], [93,95,100,85], [75,88,79,86], [77,88,69,56]]"
   ]
  },
  {
   "cell_type": "code",
   "execution_count": null,
   "metadata": {
    "id": "sW9hUNLDHp7B",
    "outputId": "48ef0a33-3216-4138-bde8-0a0a3275be82"
   },
   "outputs": [
    {
     "data": {
      "text/plain": [
       "{'고민성': [72, 80, 97, 92],\n",
       " '구준회': [93, 95, 100, 85],\n",
       " '권유진': [75, 88, 79, 86],\n",
       " '이태범': [77, 88, 69, 56]}"
      ]
     },
     "execution_count": 11,
     "metadata": {},
     "output_type": "execute_result"
    }
   ],
   "source": [
    "### 코드를 입력하세요\n",
    "mento_score = {}\n",
    "for i,j in enumerate(mento):\n",
    "    mento_score[j] = score[i]\n",
    "mento_score"
   ]
  },
  {
   "cell_type": "code",
   "execution_count": null,
   "metadata": {
    "id": "Hg3thEi8Hp7B",
    "outputId": "b5f6681b-028e-4d2e-9b25-4f248e172451"
   },
   "outputs": [
    {
     "data": {
      "text/plain": [
       "{'고민성': [72, 80, 97, 92],\n",
       " '구준회': [93, 95, 100, 85],\n",
       " '권유진': [75, 88, 79, 86],\n",
       " '이태범': [77, 88, 69, 56]}"
      ]
     },
     "execution_count": 13,
     "metadata": {},
     "output_type": "execute_result"
    }
   ],
   "source": [
    "mento_score = {}\n",
    "for i,j in zip(mento, score):\n",
    "    mento_score[i] = j\n",
    "mento_score"
   ]
  },
  {
   "cell_type": "markdown",
   "metadata": {
    "id": "ZqnH0yrjHp7B"
   },
   "source": [
    "**Q7.** 다음 조건으로 주어진 리스트를 나누시오.\n",
    "\n",
    "    원소가 문자일때:\n",
    "        str_list에 추가\n",
    "    원소가 숫자일때:\n",
    "        num_list에 추가"
   ]
  },
  {
   "cell_type": "code",
   "execution_count": null,
   "metadata": {
    "id": "an-KFAh_Hp7B"
   },
   "outputs": [],
   "source": [
    "###코드에 손대지 말고 실행해 주세요\n",
    "unclean_list = [95 , 4, -7, '국민대', '빅데이터경영통계','mento',9500]"
   ]
  },
  {
   "cell_type": "code",
   "execution_count": null,
   "metadata": {
    "id": "iTeVxVoYHp7C",
    "outputId": "9fc7559d-cda7-4eef-c274-05de125d780b"
   },
   "outputs": [
    {
     "name": "stdout",
     "output_type": "stream",
     "text": [
      "[95, 4, -7, 9500]\n",
      "['국민대', '빅데이터경영통계', 'mento']\n"
     ]
    }
   ],
   "source": [
    "### 코드를 입력하세요\n",
    "num_list = []\n",
    "str_list = []\n",
    "\n",
    "for i in range(len(unclean_list)):\n",
    "    if type(unclean_list[i])==int :\n",
    "        num_list.append(unclean_list[i])\n",
    "    else:\n",
    "        str_list.append(unclean_list[i])\n",
    "        \n",
    "print(num_list)\n",
    "print(str_list)"
   ]
  },
  {
   "cell_type": "markdown",
   "metadata": {
    "id": "e4UC9p5aHp7C"
   },
   "source": [
    "**Q8.** 주어진 성적 리스트의 분산을 구하시오.\n",
    "```python\n",
    "score_list = [100, 85, 80, 80, 90, 95, 75, 55, 60, 70]\n",
    "```"
   ]
  },
  {
   "cell_type": "code",
   "execution_count": null,
   "metadata": {
    "id": "ujOZsHDDHp7C",
    "outputId": "803dc488-5058-435a-c852-7fa79f162097"
   },
   "outputs": [
    {
     "data": {
      "text/plain": [
       "189.0"
      ]
     },
     "execution_count": 20,
     "metadata": {},
     "output_type": "execute_result"
    }
   ],
   "source": [
    "### 코드를 입력하세요\n",
    "score_list = [100, 85, 80, 80, 90, 95, 75, 55, 60, 70]\n",
    "score_list_mean = sum(score_list) / len(score_list)\n",
    "vsum = 0\n",
    "\n",
    "for i in score_list : \n",
    "    vsum = vsum + (i - score_list_mean )**2\n",
    "    \n",
    "vsum/len(score_list)"
   ]
  },
  {
   "cell_type": "markdown",
   "metadata": {
    "id": "Y0IvgZjEHp7C"
   },
   "source": [
    "**Q9.** 다음과 같은 모양을 반복문을 사용해서 만드시오.\n",
    "\n",
    "                     *\n",
    "                    ***\n",
    "                   *****\n",
    "                  *******\n",
    "                 *********\n",
    "                ***********\n",
    "               *************\n",
    "              ***************\n",
    "             *****************\n",
    "            *******************"
   ]
  },
  {
   "cell_type": "code",
   "execution_count": null,
   "metadata": {
    "id": "w7S-WDUvHp7D",
    "outputId": "df84888b-c9d2-4b32-88d5-9742617178e6"
   },
   "outputs": [
    {
     "name": "stdout",
     "output_type": "stream",
     "text": [
      "          *\n",
      "         ***\n",
      "        *****\n",
      "       *******\n",
      "      *********\n",
      "     ***********\n",
      "    *************\n",
      "   ***************\n",
      "  *****************\n",
      " *******************\n"
     ]
    }
   ],
   "source": [
    "### 코드를 입력하세요\n",
    "for i in range(10):\n",
    "    print(' ' * (-i + 9), '*' * (2*i + 1))"
   ]
  },
  {
   "cell_type": "markdown",
   "metadata": {
    "id": "LUX2L3eKHp7D"
   },
   "source": [
    "### 난이도 상 (3점)"
   ]
  },
  {
   "cell_type": "markdown",
   "metadata": {
    "id": "2SItHMFXHp7D"
   },
   "source": [
    "**Q10.** list comprehension을 이용하여 구구단의 모든 원소를 갖는 리스트를 만드시오. \n",
    "    <p>출력예시) [2,4,6,8,10,12,14,16,18,3,6,9,12,15,18, 21, ... , 9, 18,27,36,45,54,63,72,81]"
   ]
  },
  {
   "cell_type": "code",
   "execution_count": null,
   "metadata": {
    "id": "485IrmIJHp7D",
    "outputId": "64c88766-1eeb-4848-b6a3-caa4555f2ce0",
    "scrolled": true
   },
   "outputs": [
    {
     "data": {
      "text/plain": [
       "[2,\n",
       " 4,\n",
       " 6,\n",
       " 8,\n",
       " 10,\n",
       " 12,\n",
       " 14,\n",
       " 16,\n",
       " 18,\n",
       " 3,\n",
       " 6,\n",
       " 9,\n",
       " 12,\n",
       " 15,\n",
       " 18,\n",
       " 21,\n",
       " 24,\n",
       " 27,\n",
       " 4,\n",
       " 8,\n",
       " 12,\n",
       " 16,\n",
       " 20,\n",
       " 24,\n",
       " 28,\n",
       " 32,\n",
       " 36,\n",
       " 5,\n",
       " 10,\n",
       " 15,\n",
       " 20,\n",
       " 25,\n",
       " 30,\n",
       " 35,\n",
       " 40,\n",
       " 45,\n",
       " 6,\n",
       " 12,\n",
       " 18,\n",
       " 24,\n",
       " 30,\n",
       " 36,\n",
       " 42,\n",
       " 48,\n",
       " 54,\n",
       " 7,\n",
       " 14,\n",
       " 21,\n",
       " 28,\n",
       " 35,\n",
       " 42,\n",
       " 49,\n",
       " 56,\n",
       " 63,\n",
       " 8,\n",
       " 16,\n",
       " 24,\n",
       " 32,\n",
       " 40,\n",
       " 48,\n",
       " 56,\n",
       " 64,\n",
       " 72,\n",
       " 9,\n",
       " 18,\n",
       " 27,\n",
       " 36,\n",
       " 45,\n",
       " 54,\n",
       " 63,\n",
       " 72,\n",
       " 81]"
      ]
     },
     "execution_count": 22,
     "metadata": {},
     "output_type": "execute_result"
    }
   ],
   "source": [
    "### 코드를 입력하세요\n",
    "[ i*j for i in range(2,10) for j in range(1,10)]"
   ]
  },
  {
   "cell_type": "markdown",
   "metadata": {
    "id": "iOxCDwnkHp7D"
   },
   "source": [
    "**Q11.** 정수를 입력받아 서로 다른 자릿수에 있는 두 개의 수를 뽑아 더해서 만들 수 있는 모든 수를 배열에 오름차순으로 담아 출력하시오.\n",
    "\n",
    "    입력예시1) 21341\n",
    "    출력예시1) [2,3,4,5,6,7]\n",
    "\n",
    "    입력예시2) 5027\n",
    "    출력예시2) [2,5,7,9,12]"
   ]
  },
  {
   "cell_type": "code",
   "execution_count": 1,
   "metadata": {
    "colab": {
     "base_uri": "https://localhost:8080/"
    },
    "executionInfo": {
     "elapsed": 2913,
     "status": "ok",
     "timestamp": 1641704645341,
     "user": {
      "displayName": "‍이태범(학부생-빅데이터경영통계전공)",
      "photoUrl": "https://lh3.googleusercontent.com/a/default-user=s64",
      "userId": "15246855160704141118"
     },
     "user_tz": -540
    },
    "id": "Q5vf1t2RHp7E",
    "outputId": "dc958616-4867-4bc9-9092-fef87f71691d"
   },
   "outputs": [
    {
     "name": "stdout",
     "output_type": "stream",
     "text": [
      "3617\n",
      "[4, 7, 8, 9, 10, 13]\n"
     ]
    }
   ],
   "source": [
    "### 코드를 입력하세요\n",
    "a = input()\n",
    "numbers = [int(num) for num in a]\n",
    "answers = []\n",
    "\n",
    "for i in range(len(numbers)):\n",
    "    for j in range(i+1, len(numbers)):\n",
    "        out = numbers[i] + numbers[j]\n",
    "        if out not in answers :\n",
    "            answers.append(out)\n",
    "            answers.sort()\n",
    "print(answers)"
   ]
  },
  {
   "cell_type": "markdown",
   "metadata": {
    "id": "TKAIqocpHp7E"
   },
   "source": [
    "**Q12.** 다음 주어진 Dictionary를 아래와 같은 형태로 정렬하세요.\n",
    "```python\n",
    "[(96, '구준회'), (92, '고민성'), (88, '이태범'), (83, '권유진')]\n",
    "```"
   ]
  },
  {
   "cell_type": "code",
   "execution_count": 1,
   "metadata": {
    "id": "6QU94ao6Hp7E",
    "outputId": "1f5f0475-83fc-469f-d65e-33471bf5d031"
   },
   "outputs": [
    {
     "data": {
      "text/plain": [
       "{'이태범': 88, '고민성': 92, '권유진': 83, '구준회': 96}"
      ]
     },
     "execution_count": 1,
     "metadata": {},
     "output_type": "execute_result"
    }
   ],
   "source": [
    "### 코드를 건드리지 마시고 실행해주세요.\n",
    "Dict = {'이태범':88,'고민성':92,'권유진':83,'구준회':96};Dict"
   ]
  },
  {
   "cell_type": "code",
   "execution_count": 2,
   "metadata": {
    "id": "e-B7veniHp7E",
    "outputId": "c38c44c0-9191-4d7a-a1f4-84d5b2c0e9ae"
   },
   "outputs": [
    {
     "data": {
      "text/plain": [
       "[(96, '구준회'), (92, '고민성'), (88, '이태범'), (83, '권유진')]"
      ]
     },
     "execution_count": 2,
     "metadata": {},
     "output_type": "execute_result"
    }
   ],
   "source": [
    "### 코드를 입력하세요\n",
    "sorted([(v,k) for k, v in Dict.items()], reverse=True)"
   ]
  },
  {
   "cell_type": "markdown",
   "metadata": {
    "id": "CmzrW_oNHp7E"
   },
   "source": [
    "**Q13.** 다음과 같은 모양을 반복문을 사용해서 만드시오.\n",
    "    \n",
    "    *         *\n",
    "     *       * \n",
    "      *     *  \n",
    "       *   *   \n",
    "        * *    \n",
    "         *     \n",
    "        * *    \n",
    "       *   *   \n",
    "      *     *  \n",
    "     *       * \n",
    "    *         * "
   ]
  },
  {
   "cell_type": "code",
   "execution_count": null,
   "metadata": {
    "id": "stK_IbWoHp7E",
    "outputId": "689ccf8e-65ca-430b-e7e6-2b66c08d4fe9"
   },
   "outputs": [
    {
     "name": "stdout",
     "output_type": "stream",
     "text": [
      "*         *\n",
      " *       *\n",
      "  *     *\n",
      "   *   *\n",
      "    * *\n",
      "     *\n",
      "    * *\n",
      "   *   *\n",
      "  *     *\n",
      " *       *\n",
      "*         *\n"
     ]
    }
   ],
   "source": [
    "### 코드를 입력하세요\n",
    "for i in range(11):\n",
    "    if i == 5:\n",
    "        print(' '*i + '*')\n",
    "    elif i < 5:\n",
    "        print(' '*i + '*' + ' '*(-2*i + 9) + '*')\n",
    "    else:\n",
    "        print(' '*(-i+10) + '*' + ' '*(2*i - 11) + '*')"
   ]
  }
 ],
 "metadata": {
  "colab": {
   "name": "겨울방학 파이썬 스터디 2차시 과제 답지.ipynb",
   "provenance": []
  },
  "kernelspec": {
   "display_name": "Python 3",
   "language": "python",
   "name": "python3"
  },
  "language_info": {
   "codemirror_mode": {
    "name": "ipython",
    "version": 3
   },
   "file_extension": ".py",
   "mimetype": "text/x-python",
   "name": "python",
   "nbconvert_exporter": "python",
   "pygments_lexer": "ipython3",
   "version": "3.8.5"
  }
 },
 "nbformat": 4,
 "nbformat_minor": 1
}
